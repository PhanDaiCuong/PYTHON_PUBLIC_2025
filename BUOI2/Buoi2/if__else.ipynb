{
 "cells": [
  {
   "cell_type": "markdown",
   "id": "ad94924a",
   "metadata": {},
   "source": [
    "#  Mệnh đề điều kiện và vòng lặp trong Python\n",
    "\n",
    "---\n",
    "\n",
    "##  Mệnh đề điều kiện (`if`, `elif`, `else`)\n",
    "\n",
    "Dùng để thực hiện các hành động khác nhau tùy vào điều kiện đúng/sai.\n",
    "\n",
    "### Cú pháp:\n",
    "\n",
    "```python\n",
    "if điều_kiện:\n",
    "    # câu lệnh nếu điều kiện đúng\n",
    "elif điều_kiện_khác:\n",
    "    # câu lệnh nếu điều kiện_khác đúng\n",
    "else:\n",
    "    # câu lệnh nếu không điều kiện nào đúng\n"
   ]
  },
  {
   "cell_type": "code",
   "execution_count": 1,
   "id": "52e5523c",
   "metadata": {},
   "outputs": [
    {
     "name": "stdout",
     "output_type": "stream",
     "text": [
      "Nhỏ hơn 10\n"
     ]
    }
   ],
   "source": [
    "x = 7\n",
    "\n",
    "if x > 10:\n",
    "    print(\"Lớn hơn 10\")\n",
    "elif x == 10:\n",
    "    print(\"Bằng 10\")\n",
    "else:\n",
    "    print(\"Nhỏ hơn 10\")\n"
   ]
  },
  {
   "cell_type": "code",
   "execution_count": 2,
   "id": "b95d9253",
   "metadata": {},
   "outputs": [
    {
     "name": "stdout",
     "output_type": "stream",
     "text": [
      "0\n",
      "1\n",
      "2\n",
      "3\n",
      "4\n"
     ]
    }
   ],
   "source": [
    "# Vòng lặp for\n",
    "# Dùng để lặp qua một dãy phần tử (list, chuỗi, range, v.v.)\n",
    "for i in range(5):\n",
    "    print(i)\n",
    "\n"
   ]
  },
  {
   "cell_type": "code",
   "execution_count": 3,
   "id": "9f3c6d00",
   "metadata": {},
   "outputs": [
    {
     "name": "stdout",
     "output_type": "stream",
     "text": [
      "Lần: 0\n",
      "Lần: 1\n",
      "Lần: 2\n"
     ]
    }
   ],
   "source": [
    "# Vòng lặp while\n",
    "# Dùng khi chưa biết số lần lặp cụ thể, chỉ cần điều kiện còn đúng thì lặp.\n",
    "count = 0\n",
    "while count < 3:\n",
    "    print(\"Lần:\", count)\n",
    "    count += 1\n"
   ]
  },
  {
   "cell_type": "code",
   "execution_count": null,
   "id": "954d37f2",
   "metadata": {},
   "outputs": [],
   "source": []
  },
  {
   "cell_type": "markdown",
   "id": "893a2d47",
   "metadata": {},
   "source": [
    "# 🛑 Câu lệnh break và continue\n",
    "- break: Dừng vòng lặp ngay lập tức\n",
    "- continue: Bỏ qua vòng lặp hiện tại, chuyển sang lần tiếp theo"
   ]
  },
  {
   "cell_type": "code",
   "execution_count": null,
   "id": "1232df79",
   "metadata": {},
   "outputs": [],
   "source": [
    "# Ví dụ dùng break\n",
    "for i in range(10):\n",
    "    if i == 5:\n",
    "        break\n",
    "    print(i)\n",
    "\n",
    "\n"
   ]
  },
  {
   "cell_type": "code",
   "execution_count": null,
   "id": "5b89d4c1",
   "metadata": {},
   "outputs": [
    {
     "name": "stdout",
     "output_type": "stream",
     "text": [
      "0\n",
      "1\n",
      "3\n",
      "4\n"
     ]
    }
   ],
   "source": [
    "# Ví dụ dùng continue\n",
    "for i in range(5):\n",
    "    if i == 2:\n",
    "        continue\n",
    "    print(i)\n"
   ]
  },
  {
   "cell_type": "markdown",
   "id": "cefd19e4",
   "metadata": {},
   "source": [
    "#  Bài tập: \n",
    "---\n",
    "\n",
    "## PHẦN 1: MỆNH ĐỀ ĐIỀU KIỆN\n"
   ]
  },
  {
   "cell_type": "code",
   "execution_count": null,
   "id": "5a45d96e",
   "metadata": {},
   "outputs": [],
   "source": [
    "'''\n",
    "Bài 1:\n",
    "Nhập vào một số nguyên `n`. In ra:\n",
    "- `\"Số dương\"` nếu `n > 0`\n",
    "- `\"Số âm\"` nếu `n < 0`\n",
    "- `\"Bằng 0\"` nếu `n == 0`\n",
    "'''\n"
   ]
  },
  {
   "cell_type": "code",
   "execution_count": null,
   "id": "6c78cebc",
   "metadata": {},
   "outputs": [],
   "source": [
    "'''\n",
    "Bài 2:\n",
    "Nhập vào điểm số `diem` (0–10). In ra xếp loại:\n",
    "- `\"Giỏi\"` nếu từ 8 trở lên\n",
    "- `\"Khá\"` nếu từ 6.5 đến dưới 8\n",
    "- `\"Trung bình\"` nếu từ 5 đến dưới 6.5\n",
    "- `\"Yếu\"` nếu dưới 5\n",
    "'''\n",
    "\n",
    "\n"
   ]
  },
  {
   "cell_type": "code",
   "execution_count": null,
   "id": "9a106339",
   "metadata": {},
   "outputs": [],
   "source": [
    "'''\n",
    "Bài 3:\n",
    "Nhập 3 số a, b, c. Kiểm tra xem đó có phải là 3 cạnh của một tam giác không.  \n",
    "(Gợi ý: tổng hai cạnh bất kỳ phải lớn hơn cạnh còn lại)\n",
    "'''\n"
   ]
  },
  {
   "cell_type": "markdown",
   "id": "8bdab7c2",
   "metadata": {},
   "source": [
    "\n",
    "## PHẦN 2: VÒNG LẶP `for` VÀ `while`\n"
   ]
  },
  {
   "cell_type": "code",
   "execution_count": null,
   "id": "49c33337",
   "metadata": {},
   "outputs": [],
   "source": [
    "'''\n",
    "Bài 4:\n",
    "In ra các số chẵn từ 1 đến 100 bằng vòng lặp `for`.\n",
    "'''\n",
    "\n"
   ]
  },
  {
   "cell_type": "code",
   "execution_count": null,
   "id": "13153deb",
   "metadata": {},
   "outputs": [],
   "source": [
    "'''\n",
    "Bài 5:\n",
    "Viết chương trình tính tổng các số từ 1 đến `n` (do người dùng nhập).\n",
    "'''"
   ]
  },
  {
   "cell_type": "code",
   "execution_count": null,
   "id": "0399f59f",
   "metadata": {},
   "outputs": [],
   "source": [
    "'''\n",
    "Bài 6:\n",
    "In bảng cửu chương của số 7.\n",
    "'''\n",
    "\n"
   ]
  },
  {
   "cell_type": "code",
   "execution_count": null,
   "id": "14324540",
   "metadata": {},
   "outputs": [],
   "source": [
    "'''\n",
    "Bài 7:\n",
    "Dùng vòng lặp `while` để nhập liên tục các số nguyên từ bàn phím.  \n",
    "Khi nhập số âm thì dừng lại và in ra tổng các số đã nhập.\n",
    "'''"
   ]
  },
  {
   "cell_type": "code",
   "execution_count": null,
   "id": "bd1e9b3a",
   "metadata": {},
   "outputs": [],
   "source": [
    "'''\n",
    "Bài 8:\n",
    "Tìm và in ra số nguyên đầu tiên chia hết cho 7, lớn hơn 100 và nhỏ hơn 200.\n",
    "'''\n"
   ]
  },
  {
   "cell_type": "code",
   "execution_count": null,
   "id": "debfe199",
   "metadata": {},
   "outputs": [],
   "source": [
    "'''\n",
    "Bài 9:\n",
    "Viết chương trình kiểm tra một số nguyên `n` có phải số nguyên tố không.\n",
    "'''"
   ]
  },
  {
   "cell_type": "code",
   "execution_count": null,
   "id": "bdd2dafe",
   "metadata": {},
   "outputs": [],
   "source": [
    "'''\n",
    "Bài 10:\n",
    "Vẽ tam giác sao có chiều cao `h` do người dùng nhập. Ví dụ `h = 4`:\n",
    "'''\n"
   ]
  }
 ],
 "metadata": {
  "kernelspec": {
   "display_name": "rag_multimodal_hit",
   "language": "python",
   "name": "python3"
  },
  "language_info": {
   "codemirror_mode": {
    "name": "ipython",
    "version": 3
   },
   "file_extension": ".py",
   "mimetype": "text/x-python",
   "name": "python",
   "nbconvert_exporter": "python",
   "pygments_lexer": "ipython3",
   "version": "3.11.13"
  }
 },
 "nbformat": 4,
 "nbformat_minor": 5
}
