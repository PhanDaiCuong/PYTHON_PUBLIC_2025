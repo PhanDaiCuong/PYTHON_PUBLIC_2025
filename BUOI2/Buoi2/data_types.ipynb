{
 "cells": [
  {
   "cell_type": "markdown",
   "id": "0bddca45",
   "metadata": {},
   "source": [
    "# Các kiểu dữ liệu tích hợp sẵn trong Python\n",
    "\n",
    "Trong lập trình, **kiểu dữ liệu** là một khái niệm quan trọng.\n",
    "\n",
    "Biến có thể lưu trữ dữ liệu với các kiểu khác nhau, và mỗi kiểu dữ liệu có thể thực hiện những chức năng khác nhau.\n",
    "\n",
    "Python cung cấp các kiểu dữ liệu tích hợp sẵn theo các nhóm sau:\n",
    "\n",
    "## Kiểu văn bản (Text Type)\n",
    "- `str` – chuỗi ký tự\n",
    "\n",
    "## Kiểu số (Numeric Types)\n",
    "- `int` – số nguyên\n",
    "- `float` – số thực\n",
    "- `complex` – số phức\n",
    "\n",
    "## Kiểu dãy (Sequence Types)\n",
    "- `list` – danh sách\n",
    "- `tuple` – bộ\n",
    "- `range` – phạm vi\n",
    "\n",
    "## Kiểu ánh xạ (Mapping Type)\n",
    "- `dict` – từ điển (dạng key–value)\n",
    "\n",
    "## Kiểu tập hợp (Set Types)\n",
    "- `set` – tập hợp\n",
    "- `frozenset` – tập hợp bất biến\n",
    "\n",
    "## Kiểu logic (Boolean Type)\n",
    "- `bool` – giá trị đúng/sai (`True` hoặc `False`)\n",
    "\n",
    "## Kiểu nhị phân (Binary Types)\n",
    "- `bytes` – chuỗi byte\n",
    "- `bytearray` – mảng byte có thể thay đổi\n",
    "- `memoryview` – đối tượng bộ nhớ\n",
    "\n",
    "## Kiểu None (None Type)\n",
    "- `NoneType` – biểu thị không có giá trị (`None`)\n"
   ]
  },
  {
   "cell_type": "code",
   "execution_count": null,
   "id": "75311e8a",
   "metadata": {},
   "outputs": [],
   "source": [
    "# Cách lấy kiểu dữ liệu của một biến trong Python\n",
    "x = 5\n",
    "print(type(x))"
   ]
  },
  {
   "cell_type": "code",
   "execution_count": 3,
   "id": "8c0c0b86",
   "metadata": {},
   "outputs": [
    {
     "name": "stdout",
     "output_type": "stream",
     "text": [
      "<class 'int'> <class 'float'> <class 'complex'>\n"
     ]
    }
   ],
   "source": [
    "# Dạng số\n",
    "x = 1    # int\n",
    "y = 2.8  # float\n",
    "z = 1j   # complex\n",
    "print(type(x), type(y), type(z))"
   ]
  },
  {
   "cell_type": "code",
   "execution_count": null,
   "id": "be74a1db",
   "metadata": {},
   "outputs": [
    {
     "name": "stdout",
     "output_type": "stream",
     "text": [
      "<class 'int'>\n",
      "<class 'int'>\n",
      "<class 'int'>\n"
     ]
    }
   ],
   "source": [
    "#INT-số nguyên, là một số nguyên, dương hoặc âm, không có số thập phân, không giới hạn độ dài.\n",
    "x = 1\n",
    "y = 35656222554887711\n",
    "z = -3255522\n",
    "\n",
    "print(type(x))\n",
    "print(type(y))\n",
    "print(type(z))"
   ]
  },
  {
   "cell_type": "code",
   "execution_count": null,
   "id": "15908fcb",
   "metadata": {},
   "outputs": [
    {
     "name": "stdout",
     "output_type": "stream",
     "text": [
      "<class 'float'>\n",
      "<class 'float'>\n",
      "<class 'float'>\n"
     ]
    }
   ],
   "source": [
    "#Float-số thực, là một số có phần thập phân, có thể là dương hoặc âm.\n",
    "x = 1.10\n",
    "y = 1.0\n",
    "z = -35.59\n",
    "\n",
    "print(type(x))\n",
    "print(type(y))\n",
    "print(type(z))\n"
   ]
  },
  {
   "cell_type": "code",
   "execution_count": 6,
   "id": "9b6a0bc9",
   "metadata": {},
   "outputs": [
    {
     "name": "stdout",
     "output_type": "stream",
     "text": [
      "<class 'float'>\n",
      "<class 'float'>\n",
      "<class 'float'>\n"
     ]
    }
   ],
   "source": [
    "#Float cũng có thể là các số khoa học có chữ \"e\" để biểu thị lũy thừa của 10.\n",
    "x = 35e3\n",
    "y = 12E4\n",
    "z = -87.7e100\n",
    "\n",
    "print(type(x))\n",
    "print(type(y))\n",
    "print(type(z))"
   ]
  },
  {
   "cell_type": "code",
   "execution_count": null,
   "id": "814bffb5",
   "metadata": {},
   "outputs": [
    {
     "name": "stdout",
     "output_type": "stream",
     "text": [
      "<class 'complex'>\n",
      "<class 'complex'>\n",
      "<class 'complex'>\n"
     ]
    }
   ],
   "source": [
    "# Các số phức được viết bằng \"j\" làm phần ảo:\n",
    "x = 3+5j\n",
    "y = 5j\n",
    "z = -5j\n",
    "\n",
    "print(type(x))\n",
    "print(type(y))\n",
    "print(type(z))"
   ]
  },
  {
   "cell_type": "code",
   "execution_count": null,
   "id": "ddd844e8",
   "metadata": {},
   "outputs": [],
   "source": [
    "# ÉP KIỂU DỮ LIỆU\n",
    "# Bạn có thể ép kiểu dữ liệu của một biến sang kiểu khác bằng cách sử dụng các hàm như int(), float(), str().  \n",
    "x = 1    # int\n",
    "y = 2.8  # float\n",
    "z = 1j   # complex\n",
    "\n",
    "# Ép x sang float\n",
    "# Esp y sang int\n",
    "# Esp z sang float"
   ]
  },
  {
   "cell_type": "code",
   "execution_count": 10,
   "id": "f5d8f4a3",
   "metadata": {},
   "outputs": [
    {
     "name": "stdout",
     "output_type": "stream",
     "text": [
      "7\n"
     ]
    }
   ],
   "source": [
    "#RANDOM NUMBER\n",
    "import random\n",
    "print(random.randint(1, 10))  # In một số nguyên ngẫu nhiên từ  # 1 đến 10"
   ]
  },
  {
   "cell_type": "markdown",
   "id": "5dca1844",
   "metadata": {},
   "source": [
    "# Giá trị Boolean\n",
    "\n",
    "Trong lập trình, bạn thường cần biết một biểu thức là **True** (đúng) hay **False** (sai).\n",
    "\n",
    "Bạn có thể đánh giá (evaluate) bất kỳ biểu thức nào trong Python và nhận được một trong hai kết quả: `True` hoặc `False`.\n",
    "\n",
    "Khi bạn so sánh hai giá trị, biểu thức sẽ được đánh giá và Python sẽ trả về kết quả Boolean:\n",
    "\n",
    "```python\n",
    "print(10 > 9)      # True\n",
    "print(10 == 9)     # False\n",
    "print(10 < 9)      # False\n"
   ]
  },
  {
   "cell_type": "code",
   "execution_count": null,
   "id": "f9558635",
   "metadata": {},
   "outputs": [
    {
     "name": "stdout",
     "output_type": "stream",
     "text": [
      "True\n",
      "True\n"
     ]
    }
   ],
   "source": [
    "print(bool(\"Hello\"))\n",
    "print(bool(15))\n",
    "x = str(x)\n"
   ]
  }
 ],
 "metadata": {
  "kernelspec": {
   "display_name": "rag_multimodal_hit",
   "language": "python",
   "name": "python3"
  },
  "language_info": {
   "codemirror_mode": {
    "name": "ipython",
    "version": 3
   },
   "file_extension": ".py",
   "mimetype": "text/x-python",
   "name": "python",
   "nbconvert_exporter": "python",
   "pygments_lexer": "ipython3",
   "version": "3.11.13"
  }
 },
 "nbformat": 4,
 "nbformat_minor": 5
}
