{
 "cells": [
  {
   "cell_type": "markdown",
   "id": "7f4497d1",
   "metadata": {},
   "source": [
    "# BÀI TẬP VỀ NHÀ BUỔI 2 \n"
   ]
  },
  {
   "cell_type": "markdown",
   "id": "04e100e4",
   "metadata": {},
   "source": []
  },
  {
   "cell_type": "markdown",
   "id": "db442209",
   "metadata": {},
   "source": [
    "## Bài1: \n",
    "### Cho biết tháng và năm, hãy in ra số ngày tương ứng có trong tháng đó.\n",
    "### Chú ý tháng 2 của năm nhuận có 29 ngày.\n",
    "### Test1: \n",
    "###     Input: tháng 10 năm 2020     \n",
    "###     Output: 31\n",
    "\n",
    "### Test2: \n",
    "###     Input: tháng 2 năm 2024      \n",
    "###     Output: 29\n",
    "\n",
    "### Test3:\n",
    "###     Input: tháng 2 năm 2025      \n",
    "###     Output: 28\n",
    "\n",
    "### Test4: \n",
    "###     Input: tháng 11 năm 1921    \n",
    "###     Output: 30\n",
    "\n",
    "\n"
   ]
  },
  {
   "cell_type": "markdown",
   "id": "5c4fee5f",
   "metadata": {},
   "source": []
  },
  {
   "cell_type": "markdown",
   "id": "90562046",
   "metadata": {},
   "source": [
    "## Bài2: \n",
    "### Giả sử bạn là kế toán cho một công ty. Bạn cần viết một chương trình để nhập lương nhân viên, tính thuế thu nhập và lương ròng (số tiền lương thực sự mà nhân viên đó nhận được). Với các thông số sau (mình chỉ đưa ra các con số này cho dễ tính toán):\n",
    "### - 30% thuế thu nhập nếu lương là 15 triệu\n",
    "### - 20% thuế thu nhập nếu lương từ 7 đến 15 triệu\n",
    "### - 10% thuế thu nhập nếu lương dưới 7 triệu\n",
    "### Test1: \n",
    "###     Input: 5000000     \n",
    "###     Output: Thuế: 500000     Thu nhập: 4500000\n",
    "\n",
    "### **1 số trường hợp khác bị ẩn đi nhé!**"
   ]
  },
  {
   "cell_type": "markdown",
   "id": "5281fdae",
   "metadata": {},
   "source": []
  },
  {
   "cell_type": "markdown",
   "id": "72176664",
   "metadata": {},
   "source": [
    "## Bài3: \n",
    "### Đếm số lượng chữ số và tính tổng chữ số của N!\n",
    "### Nhập vào n, đếm số lượng chữ số của n và tổng các chữ số của N  sau đó  in ra kết quả.\n",
    "### Test1: \n",
    "###     Input: 54     \n",
    "###     Output: Số chữ số: 2      Tổng chữ số: 9\n",
    "\n",
    "### **1 số trường hợp khác bị ẩn đi nhé!**"
   ]
  },
  {
   "cell_type": "markdown",
   "id": "990e8ffe",
   "metadata": {},
   "source": []
  },
  {
   "cell_type": "markdown",
   "id": "533c16bb",
   "metadata": {},
   "source": [
    "## Bài4: \n",
    "### Hà Nội là vùng đất mà cư dân cực kì thích uống bia, vì thế để tăng số lượng bia bán ra các cửa hàng bia ở đây đưa ra khuyến mại như sau : Cứ 3 vỏ chai bia sẽ được đổi một chai bia mới. Biết rằng, mỗi chai bia có giá 28 xu, nhiệm vụ của bạn là xác định với N xu cho trước, bạn có thể mua được tối đa bao nhiêu chai bia tính cả việc đổi thưởng bằng vỏ chai?\n",
    "\n",
    "### Test1: \n",
    "###     Input: 28     \n",
    "###     Output: Số chai bia có thể mua được là: 1\n",
    "\n",
    "### **1 số trường hợp khác bị ẩn đi nhé!**"
   ]
  }
 ],
 "metadata": {
  "language_info": {
   "name": "python"
  }
 },
 "nbformat": 4,
 "nbformat_minor": 5
}
