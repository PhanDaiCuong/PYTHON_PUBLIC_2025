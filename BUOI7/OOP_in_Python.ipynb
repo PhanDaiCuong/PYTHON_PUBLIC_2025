{
 "cells": [
  {
   "cell_type": "markdown",
   "id": "60c8b387",
   "metadata": {},
   "source": [
    "# OOP trong Python — Notebook (Chi tiết, Định dạng sạch)\n",
    "\n",
    "**Mục tiêu:** giải thích 4 tính chất OOP (Đóng gói, Trừu tượng, Kế thừa, Đa hình)."
   ]
  },
  {
   "cell_type": "markdown",
   "id": "e042c39e",
   "metadata": {},
   "source": [
    "## Tổng quan ngắn\n",
    "\n",
    "OOP (Object-Oriented Programming) tổ chức mã bằng các lớp (class) và đối tượng (object).\n",
    "\n",
    "Bốn tính chất cốt lõi:\n",
    "\n",
    "- **Đóng gói (Encapsulation)**\n",
    "- **Trừu tượng (Abstraction)**\n",
    "- **Kế thừa (Inheritance)**\n",
    "- **Đa hình (Polymorphism)**\n",
    "\n",
    "Mỗi phần bên dưới sẽ có giải thích ngắn và ví dụ mã riêng (code cell)."
   ]
  },
  {
   "cell_type": "markdown",
   "id": "60e1e8ab",
   "metadata": {},
   "source": [
    "## 1) Đóng gói (Encapsulation)\n",
    "\n",
    "**Ý tưởng:** gom dữ liệu & hành vi vào 1 lớp, che giấu trạng thái nội bộ để tránh truy cập ngoài ý muốn.\n",
    "Đóng gói có 2 ý chính:\n",
    "- Gom thuộc tính (dữ liệu) & phương thức (hành vi) lại với nhau trong class.\n",
    "- Che giấu trạng thái nội bộ (private/protected) để tránh truy cập ngoài ý muốn."
   ]
  },
  {
   "cell_type": "code",
   "execution_count": null,
   "id": "71e1b74e",
   "metadata": {},
   "outputs": [
    {
     "name": "stdout",
     "output_type": "stream",
     "text": [
      "Owner: Lan\n",
      "Balance (via property): 100.0\n",
      "After deposit: 150.0\n",
      "After external set attempt, acc.__balance attribute exists externally, but property still returns: 150.0\n"
     ]
    }
   ],
   "source": [
    "\n",
    "class BankAccount:\n",
    "    def __init__(self, owner: str, balance: float = 0.0):\n",
    "        self.owner = owner\n",
    "        self.__balance = float(balance)  # private (name mangling)\n",
    "\n",
    "    def balance(self) -> float:\n",
    "        \"\"\"Trả về số dư (không cho set trực tiếp)\"\"\"\n",
    "        return self.__balance\n",
    "\n",
    "    def deposit(self, amount: float):\n",
    "        if amount <= 0:\n",
    "            raise ValueError('Deposit must be positive')\n",
    "        self.__balance += amount\n",
    "        return self.__balance\n",
    "\n",
    "    def withdraw(self, amount: float):\n",
    "        if amount <= 0:\n",
    "            raise ValueError('Withdraw must be positive')\n",
    "        if amount > self.__balance:\n",
    "            raise ValueError('Insufficient funds')\n",
    "        self.__balance -= amount\n",
    "        return self.__balance\n",
    "\n",
    "# Thử nghiệm\n",
    "acc = BankAccount('Lan', 100)\n",
    "print('Owner:', acc.owner)\n",
    "print('Balance (via property):', acc.balance)\n",
    "acc.deposit(50)\n",
    "print('After deposit:', acc.balance)\n",
    "\n",
    "# Ghi chú: cố tình set acc.__balance từ bên ngoài không thay đổi nội bộ do name mangling.\n",
    "acc.__balance = 9999\n",
    "print('After external set attempt, acc.__balance attribute exists externally, but property still returns:', acc.balance)\n",
    "# Truy cập thực sự (không khuyến nghị): acc._BankAccount__balance = 9999\n"
   ]
  },
  {
   "cell_type": "markdown",
   "id": "ca9d4651",
   "metadata": {},
   "source": [
    "## 2) Kế thừa (Inheritance)\n",
    "\n",
    "**Ý tưởng:** lớp con tái sử dụng/ mở rộng hành vi từ lớp cha. Dùng `super()` để gọi constructor/method của cha. Không lạm dụng kế thừa nếu chỉ cần reuse một phần hành vi (xem composition)."
   ]
  },
  {
   "cell_type": "code",
   "execution_count": null,
   "id": "5249afec",
   "metadata": {},
   "outputs": [],
   "source": [
    "\n",
    "# Ví dụ super()\n",
    "class Vehicle:\n",
    "    def __init__(self, make, model):\n",
    "        self.make = make\n",
    "        self.model = model\n",
    "\n",
    "class Car(Vehicle):\n",
    "    def __init__(self, make, model, doors):\n",
    "        super().__init__(make, model)\n",
    "        self.doors = doors\n",
    "\n",
    "c = Car('Honda', 'Civic', 4)\n",
    "print('Car:', c.make, c.model, c.doors)\n"
   ]
  },
  {
   "cell_type": "markdown",
   "id": "d2f35f41",
   "metadata": {},
   "source": [
    "## 3) Trừu tượng (Abstraction)\n",
    "\n",
    "**Ý tưởng:** chỉ lộ ra giao diện cần dùng, ẩn chi tiết triển khai."
   ]
  },
  {
   "cell_type": "code",
   "execution_count": null,
   "id": "81e62adf",
   "metadata": {},
   "outputs": [],
   "source": [
    "\n",
    "from abc import ABC\n",
    "\n",
    "class PaymentProcessor(ABC):\n",
    "    \"\"\"Giao diện cho bộ xử lý thanh toán\"\"\"\n",
    "\n",
    "    def pay(self, amount: float) -> bool:\n",
    "        pass\n",
    "\n",
    "class PaypalProcessor(PaymentProcessor):\n",
    "    def pay(self, amount: float) -> bool:\n",
    "        print(f\"Thanh toán {amount} bằng PayPal...\")\n",
    "        return True\n",
    "\n",
    "class CardProcessor(PaymentProcessor):\n",
    "    def pay(self, amount: float) -> bool:\n",
    "        print(f\"Thanh toán {amount} bằng thẻ tín dụng...\")\n",
    "        return True\n",
    "\n",
    "def checkout(processor: PaymentProcessor, amount: float):\n",
    "    return processor.pay(amount)\n",
    "\n",
    "print('Pay with PayPal:', checkout(PaypalProcessor(), 50.0))\n",
    "print('Pay with Card:  ', checkout(CardProcessor(), 75.0))\n"
   ]
  },
  {
   "cell_type": "markdown",
   "id": "bea34649",
   "metadata": {},
   "source": [
    "## 4) Đa hình (Polymorphism)\n",
    "\n",
    "**Ý tưởng:** cùng 1 giao diện có thể có nhiều hiện thực. Thực hiện bằng overriding, duck typing hoặc operator overloading. Ví dụ gọi `speak()` trên list các `Animal` đã là đa hình."
   ]
  },
  {
   "cell_type": "code",
   "execution_count": null,
   "id": "2af6fa47",
   "metadata": {},
   "outputs": [],
   "source": [
    "\n",
    "class Animal:\n",
    "    def __init__(self, name: str):\n",
    "        self.name = name\n",
    "\n",
    "    def speak(self):\n",
    "        raise NotImplementedError('Subclasses must implement speak')\n",
    "\n",
    "class Dog(Animal):\n",
    "    def speak(self):\n",
    "        return f\"{self.name} says Woof\"\n",
    "\n",
    "class Cat(Animal):\n",
    "    def speak(self):\n",
    "        return f\"{self.name} says Meow\"\n",
    "\n",
    "animals = [Dog('Rex'), Cat('Mèo Mun')]\n",
    "for a in animals:\n",
    "    print(a.speak())"
   ]
  },
  {
   "cell_type": "markdown",
   "id": "ab2a9837",
   "metadata": {},
   "source": [
    "### Liskov Substitution Principle (LSP)\n",
    "\n",
    "Nếu S là subtype của T, thì đối tượng kiểu T có thể thay bằng S mà không làm thay đổi tính đúng đắn chương trình. Tránh thiết kế khiến subclass phá vỡ contract của superclass. Ví dụ: Bird.fly() và Penguin không thể fly => tách interface Flyable."
   ]
  },
  {
   "cell_type": "markdown",
   "id": "13b94aec",
   "metadata": {},
   "source": [
    "## Ví dụ tích hợp (Mini-system phương tiện giao thông)\n",
    "Kết hợp các tính chất OOP: abstract Vehicle, PetrolCar, ElectricCar (encapsulation cho battery)."
   ]
  },
  {
   "cell_type": "code",
   "execution_count": null,
   "id": "315d52a7",
   "metadata": {},
   "outputs": [],
   "source": [
    "\n",
    "from abc import ABC, abstractmethod\n",
    "\n",
    "class VehicleBase(ABC):\n",
    "    @abstractmethod\n",
    "    def start(self):\n",
    "        pass\n",
    "\n",
    "class PetrolCar(VehicleBase):\n",
    "    def __init__(self, make):\n",
    "        self.make = make\n",
    "    def start(self):\n",
    "        return f'{self.make} starts with petrol engine'\n",
    "\n",
    "class ElectricCar(VehicleBase):\n",
    "    def __init__(self, make, battery_level=100):\n",
    "        self.make = make\n",
    "        self._battery = battery_level  # encapsulated\n",
    "    def start(self):\n",
    "        if self._battery < 10:\n",
    "            return f'{self.make} cannot start: battery low'\n",
    "        return f'{self.make} starts silently (electric)'\n",
    "\n",
    "fleet = [PetrolCar('Ford'), ElectricCar('Tesla', battery_level=5), ElectricCar('Nissan', battery_level=80)]\n",
    "for v in fleet:\n",
    "    print(v.start())\n"
   ]
  },
  {
   "cell_type": "markdown",
   "id": "d437c57d",
   "metadata": {},
   "source": [
    "## Bài tập thực hành\n",
    "\n",
    "1. Viết lớp `Student` (encapsulation cho grades).\n",
    "2. Viết abstract class `Shape` và các lớp `Circle`, `Rectangle` (tính tổng diện tích - polymorphism)."
   ]
  },
  {
   "cell_type": "code",
   "execution_count": null,
   "id": "ea54a0b5",
   "metadata": {},
   "outputs": [],
   "source": []
  }
 ],
 "metadata": {
  "kernelspec": {
   "display_name": "DeepLearning",
   "language": "python",
   "name": "python3"
  },
  "language_info": {
   "codemirror_mode": {
    "name": "ipython",
    "version": 3
   },
   "file_extension": ".py",
   "mimetype": "text/x-python",
   "name": "python",
   "nbconvert_exporter": "python",
   "pygments_lexer": "ipython3",
   "version": "3.12.9"
  }
 },
 "nbformat": 4,
 "nbformat_minor": 5
}
