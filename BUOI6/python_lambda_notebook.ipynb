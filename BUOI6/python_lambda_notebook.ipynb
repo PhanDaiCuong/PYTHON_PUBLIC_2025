{
 "cells": [
  {
   "cell_type": "markdown",
   "id": "d7faf317",
   "metadata": {},
   "source": [
    "# Lambda, map/filter/reduce và lập trình hàm (functional) trong Python\n",
    "\n",
    "Notebook này tập trung vào `lambda` expressions, cách sử dụng cùng `map`, `filter`, `reduce`, `functools`, và các ví dụ thực tế.\n",
    "\n",
    "Mục lục:\n",
    "1. Cú pháp lambda\n",
    "2. map / filter / reduce\n",
    "3. sorted với key (lambda)\n",
    "4. functools: partial, reduce, lru_cache\n",
    "5. Khi nào không nên dùng lambda\n",
    "6. Bài tập"
   ]
  },
  {
   "cell_type": "markdown",
   "id": "81bbe299",
   "metadata": {},
   "source": [
    "## 1) Cú pháp `lambda`\n",
    "\n",
    "`lambda` tạo hàm nhỏ (anonymous function) trên một dòng: `lambda args: expression`.\n",
    "\n",
    "Ví dụ:"
   ]
  },
  {
   "cell_type": "code",
   "execution_count": null,
   "id": "7b6a71d5",
   "metadata": {},
   "outputs": [],
   "source": [
    "add = lambda a, b: a + b\n",
    "print(add(2,3))\n",
    "\n",
    "# Lambda có thể dùng trực tiếp trong biểu thức\n",
    "print((lambda x: x**2)(5))"
   ]
  },
  {
   "cell_type": "markdown",
   "id": "ffe0f3ff",
   "metadata": {},
   "source": [
    "## 2) `map`, `filter`, `reduce`\n",
    "\n",
    "- `map(fn, iterable)` áp dụng fn lên từng phần tử.\n",
    "- `filter(fn, iterable)` lọc phần tử sao cho fn(item) là True.\n",
    "- `reduce` nằm trong `functools` dùng để giảm một iterable về một giá trị duy nhất."
   ]
  },
  {
   "cell_type": "code",
   "execution_count": null,
   "id": "30516337",
   "metadata": {},
   "outputs": [],
   "source": [
    "from functools import reduce\n",
    "\n",
    "nums = [1,2,3,4,5]\n",
    "print(list(map(lambda x: x*2, nums)))\n",
    "print(list(filter(lambda x: x%2==0, nums)))\n",
    "print(reduce(lambda a,b: a+b, nums))"
   ]
  },
  {
   "cell_type": "markdown",
   "id": "25d86d4e",
   "metadata": {},
   "source": [
    "## 3) `sorted(..., key=...)` với `lambda`\n",
    "\n",
    "Sử dụng lambda để chỉ định tiêu chí sắp xếp:"
   ]
  },
  {
   "cell_type": "code",
   "execution_count": null,
   "id": "d2af58a7",
   "metadata": {},
   "outputs": [],
   "source": [
    "pairs = [('a', 3), ('b', 1), ('c', 2)]\n",
    "print(sorted(pairs, key=lambda x: x[1]))  # sắp theo phần tử thứ 2"
   ]
  },
  {
   "cell_type": "markdown",
   "id": "a964954a",
   "metadata": {},
   "source": [
    "## 4) `functools` hữu ích\n",
    "\n",
    "- `functools.partial` để 'khóa' một số tham số của hàm\n",
    "- `functools.lru_cache` để cache kết quả\n",
    "- `reduce` đã dùng ở trên\n"
   ]
  },
  {
   "cell_type": "code",
   "execution_count": null,
   "id": "0b4c884f",
   "metadata": {},
   "outputs": [],
   "source": [
    "from functools import partial, lru_cache\n",
    "\n",
    "def power(base, exp):\n",
    "    return base ** exp\n",
    "\n",
    "square = partial(power, exp=2)\n",
    "print(square(5))  # 5^2\n",
    "\n",
    "@lru_cache(maxsize=128)\n",
    "def fib(n):\n",
    "    if n < 2:\n",
    "        return n\n",
    "    return fib(n-1) + fib(n-2)\n",
    "\n",
    "print(fib(30))"
   ]
  },
  {
   "cell_type": "markdown",
   "id": "d27b669c",
   "metadata": {},
   "source": [
    "## 5) Khi nào không nên dùng `lambda`\n",
    "\n",
    "- Khi logic phức tạp: nên dùng `def` để dễ đọc và debug.\n",
    "- Khi cần docstring hoặc nhiều dòng.\n",
    "\n",
    "`lambda` phù hợp với hàm ngắn, đơn giản, dùng tức thời (one-off)."
   ]
  },
  {
   "cell_type": "markdown",
   "id": "27398d5f",
   "metadata": {},
   "source": [
    "## 6) Bài tập\n",
    "\n",
    "1. Dùng `map` và `filter` để từ danh sách số tạo ra danh sách bình phương của những số chẵn.\n",
    "2. Viết `partial` cho hàm `int(x, base)` để tạo hàm `parse_binary` parse chuỗi nhị phân.\n",
    "3. Viết hàm sử dụng `reduce` để tính tích các phần tử trong một list.\n",
    "\n",
    "(Đáp án tham khảo bên dưới)"
   ]
  },
  {
   "cell_type": "code",
   "execution_count": null,
   "id": "963a845e",
   "metadata": {},
   "outputs": [],
   "source": [
    "# # Đáp án tham khảo\n",
    "# from functools import partial, reduce\n",
    "\n",
    "# # 1\n",
    "# nums = [1,2,3,4,5,6]\n",
    "# even_squares = list(map(lambda x: x*x, filter(lambda x: x%2==0, nums)))\n",
    "# print(even_squares)\n",
    "\n",
    "# # 2\n",
    "# parse_binary = partial(int, base=2)\n",
    "# print(parse_binary('1011'))  # 11\n",
    "\n",
    "# # 3\n",
    "# def product(lst):\n",
    "#     return reduce(lambda a,b: a*b, lst, 1)\n",
    "\n",
    "# print(product([1,2,3,4]))"
   ]
  }
 ],
 "metadata": {
  "language_info": {
   "name": "python"
  }
 },
 "nbformat": 4,
 "nbformat_minor": 5
}
