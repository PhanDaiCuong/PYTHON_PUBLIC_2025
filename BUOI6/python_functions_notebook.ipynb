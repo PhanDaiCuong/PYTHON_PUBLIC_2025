{
 "cells": [
  {
   "cell_type": "markdown",
   "id": "c84e9031",
   "metadata": {},
   "source": [
    "# Python Functions — Tổng quan\n",
    "\n",
    "Notebook này trình bày các khái niệm cơ bản và nâng cao về **function** trong Python: định nghĩa, tham số, giá trị trả về, docstring, `*args`, `**kwargs`, annotations, nested functions và decorators.\n",
    "\n",
    "Mục lục:\n",
    "1. Định nghĩa hàm và cú pháp\n",
    "2. Tham số và giá trị trả về\n",
    "3. Docstrings và type hints (annotations)\n",
    "4. *args và **kwargs\n",
    "5. Hàm lồng nhau (nested) và closure\n",
    "6. Decorators — giới thiệu và ví dụ\n",
    "7. Bài tập thực hành"
   ]
  },
  {
   "cell_type": "markdown",
   "id": "3abbc01f",
   "metadata": {},
   "source": [
    "## 1) Định nghĩa hàm và cú pháp\n",
    "\n",
    "Sử dụng từ khóa `def` để định nghĩa hàm. Ví dụ:"
   ]
  },
  {
   "cell_type": "code",
   "execution_count": null,
   "id": "66a1a181",
   "metadata": {},
   "outputs": [],
   "source": [
    "def greet(name):\n",
    "    \"\"\"Trả về lời chào cho `name`.\"\"\"\n",
    "    return f\"Hello, {name}!\"\n",
    "\n",
    "print(greet('An'))"
   ]
  },
  {
   "cell_type": "markdown",
   "id": "6c5084c1",
   "metadata": {},
   "source": [
    "## 2) Tham số và giá trị trả về\n",
    "\n",
    "- Tham số bắt buộc (positional)\n",
    "- Tham số mặc định (default)\n",
    "- Tham số có tên (keyword-only)\n",
    "\n",
    "Ví dụ:"
   ]
  },
  {
   "cell_type": "code",
   "execution_count": null,
   "id": "b11755d9",
   "metadata": {},
   "outputs": [],
   "source": [
    "def make_sentence(subject, verb='loves', object='Python'):\n",
    "    return f\"{subject} {verb} {object}.\"\n",
    "\n",
    "print(make_sentence('Cường'))\n",
    "print(make_sentence('Lan', object='data'))\n",
    "print(make_sentence('Huy', verb='hates'))"
   ]
  },
  {
   "cell_type": "markdown",
   "id": "4ca5a985",
   "metadata": {},
   "source": [
    "## 3) Docstrings và type hints (annotations)\n",
    "\n",
    "Sử dụng docstring để mô tả hàm. Type hints giúp IDE và đọc mã dễ hơn, nhưng Python không ép kiểu runtime."
   ]
  },
  {
   "cell_type": "code",
   "execution_count": null,
   "id": "5759142d",
   "metadata": {},
   "outputs": [],
   "source": [
    "def add(a: int, b: int) -> int:\n",
    "    \"\"\"Trả về tổng của a và b.\n",
    "\n",
    "    Args:\n",
    "        a (int): số nguyên thứ nhất\n",
    "        b (int): số nguyên thứ hai\n",
    "    Returns:\n",
    "        int: tổng\n",
    "    \"\"\"\n",
    "    return a + b\n",
    "\n",
    "print(add(2,3))"
   ]
  },
  {
   "cell_type": "markdown",
   "id": "3e68da35",
   "metadata": {},
   "source": [
    "## 4) *args và **kwargs\n",
    "\n",
    "- `*args` nhận tuple các tham số vị trí thừa\n",
    "- `**kwargs` nhận dict các tham số từ khóa thừa\n",
    "\n",
    "Ví dụ:"
   ]
  },
  {
   "cell_type": "code",
   "execution_count": null,
   "id": "afb85bd4",
   "metadata": {},
   "outputs": [],
   "source": [
    "def demo_args(*args, **kwargs):\n",
    "    print('args =', args)\n",
    "    print('kwargs =', kwargs)\n",
    "\n",
    "# Gọi hàm\n",
    "demo_args(1, 2, 3, a=10, b=20)"
   ]
  },
  {
   "cell_type": "markdown",
   "id": "14c1098b",
   "metadata": {},
   "source": [
    "## 5) Hàm lồng nhau (nested functions) và closure\n",
    "\n",
    "Hàm có thể được định nghĩa trong hàm khác. Nếu hàm trong tham chiếu biến của hàm ngoài, ta có closure."
   ]
  },
  {
   "cell_type": "code",
   "execution_count": null,
   "id": "8d9036c3",
   "metadata": {},
   "outputs": [],
   "source": [
    "def outer(x):\n",
    "    def inner(y):\n",
    "        return x + y\n",
    "    return inner\n",
    "\n",
    "f = outer(10)\n",
    "print(f(5))  # 15\n",
    "\n",
    "# outer đã 'đóng gói' x = 10 thành closure"
   ]
  },
  {
   "cell_type": "markdown",
   "id": "edb49a33",
   "metadata": {},
   "source": [
    "## 6) Decorators — giới thiệu\n",
    "\n",
    "Decorator là hàm nhận một hàm khác và trả về hàm mới (thường là để bọc thêm hành vi). Ví dụ đơn giản:"
   ]
  },
  {
   "cell_type": "code",
   "execution_count": null,
   "id": "dbe1bf78",
   "metadata": {},
   "outputs": [],
   "source": [
    "def debug(fn):\n",
    "    def wrapper(*args, **kwargs):\n",
    "        print(f'Calling {fn.__name__} with', args, kwargs)\n",
    "        result = fn(*args, **kwargs)\n",
    "        print(f'{fn.__name__} returned', result)\n",
    "        return result\n",
    "    return wrapper\n",
    "\n",
    "@debug\n",
    "def mul(a, b):\n",
    "    return a * b\n",
    "\n",
    "print(mul(3,4))"
   ]
  },
  {
   "cell_type": "markdown",
   "id": "9941376b",
   "metadata": {},
   "source": [
    "### Decorator với tham số\n",
    "\n",
    "Nếu muốn truyền tham số vào decorator, ta cần thêm một lớp bao:\n"
   ]
  },
  {
   "cell_type": "code",
   "execution_count": null,
   "id": "79ea8f94",
   "metadata": {},
   "outputs": [],
   "source": [
    "def repeat(n):\n",
    "    def deco(fn):\n",
    "        def wrapper(*args, **kwargs):\n",
    "            res = None\n",
    "            for _ in range(n):\n",
    "                res = fn(*args, **kwargs)\n",
    "            return res\n",
    "        return wrapper\n",
    "    return deco\n",
    "\n",
    "@repeat(3)\n",
    "def say(msg):\n",
    "    print(msg)\n",
    "\n",
    "say('Xin chào')"
   ]
  },
  {
   "cell_type": "markdown",
   "id": "a37d3f95",
   "metadata": {},
   "source": [
    "## 7) Bài tập thực hành\n",
    "\n",
    "1. Viết hàm `is_prime(n)` kiểm tra số nguyên tố.\n",
    "\n",
    "(Thử tự làm rồi kiểm tra đáp án bên dưới.)"
   ]
  },
  {
   "cell_type": "code",
   "execution_count": null,
   "id": "1d121ee6",
   "metadata": {},
   "outputs": [],
   "source": []
  }
 ],
 "metadata": {
  "language_info": {
   "name": "python"
  }
 },
 "nbformat": 4,
 "nbformat_minor": 5
}
