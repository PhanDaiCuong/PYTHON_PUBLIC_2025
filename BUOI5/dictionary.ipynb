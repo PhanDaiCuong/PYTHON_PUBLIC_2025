{
 "cells": [
  {
   "cell_type": "markdown",
   "id": "3d979f98",
   "metadata": {},
   "source": [
    "# DICTIONARY\n"
   ]
  },
  {
   "cell_type": "markdown",
   "id": "a8d8dd5a",
   "metadata": {},
   "source": [
    "### Python dictionary is a data structure that stores the **value in key**: value pairs. Values in a dictionary can be of **any data** type and can be **duplicated**, whereas keys can't be **repeated** and must be **immutable**.\n"
   ]
  },
  {
   "cell_type": "markdown",
   "id": "40666567",
   "metadata": {},
   "source": []
  },
  {
   "cell_type": "markdown",
   "id": "64f7d148",
   "metadata": {},
   "source": [
    "## Create a new Dictionary"
   ]
  },
  {
   "cell_type": "code",
   "execution_count": 25,
   "id": "ea89a58b",
   "metadata": {},
   "outputs": [
    {
     "name": "stdout",
     "output_type": "stream",
     "text": [
      "{1: 'toi', 2: 'la', 3: 'HITer'}\n",
      "<class 'dict'>\n",
      "{1: 'la'}\n"
     ]
    }
   ],
   "source": [
    "# create a empty dict\n",
    "dict1 = {}\n",
    "\n",
    "# create a dict include 3 elements\n",
    "dict2 = {1:\"toi\", 2:\"la\", 3:\"HITer\"}\n",
    "print(dict2)\n",
    "print(type(dict2))\n",
    "\n",
    "#NOTE: Dictionary can't have two  similar key\n",
    "dict3 = {1: \"toi\", 1:\"la\"}\n",
    "print(dict3)\n",
    "\n",
    "\n"
   ]
  },
  {
   "cell_type": "markdown",
   "id": "990f75db",
   "metadata": {},
   "source": [
    "## Key is immutable but Value is any data"
   ]
  },
  {
   "cell_type": "code",
   "execution_count": 26,
   "id": "36bbe447",
   "metadata": {},
   "outputs": [],
   "source": [
    "# dict1 = {[1, 2]:'HIT'}  # --> Errow"
   ]
  },
  {
   "cell_type": "markdown",
   "id": "a494278b",
   "metadata": {},
   "source": [
    "## Accessing Dict Items"
   ]
  },
  {
   "cell_type": "code",
   "execution_count": 27,
   "id": "15e53297",
   "metadata": {},
   "outputs": [
    {
     "name": "stdout",
     "output_type": "stream",
     "text": [
      "Cuong\n",
      "20\n",
      "None\n"
     ]
    }
   ],
   "source": [
    "#Method1:\n",
    "dict1 = {\n",
    "    \"ten\": \"Cuong\", \n",
    "    \"tuoi\": 20, \n",
    "    \"nghe nghiep\": \"sinh vien\"\n",
    "}\n",
    "print(dict1[\"ten\"])\n",
    "\n",
    "# if key don't exits in dict, you have error\n",
    "# print(dict1[\"gioi tinh\"])     # --> Error\n",
    "\n",
    "\n",
    "#Method2:\n",
    "print(dict1.get(\"tuoi\"))\n",
    "print(dict1.get(\"gioi tinh\"))   # if key don't exits in dict, return None"
   ]
  },
  {
   "cell_type": "code",
   "execution_count": 28,
   "id": "df539ea0",
   "metadata": {},
   "outputs": [
    {
     "name": "stdout",
     "output_type": "stream",
     "text": [
      "dict_items([('ten', 'Cuong'), ('tuoi', 20), ('nghe nghiep', 'sinh vien')])\n",
      "dict_keys(['ten', 'tuoi', 'nghe nghiep'])\n",
      "dict_values(['Cuong', 20, 'sinh vien'])\n"
     ]
    }
   ],
   "source": [
    "# Method items()\n",
    "print(dict1.items())       # return pair elements: key and value\n",
    "\n",
    "# Method keys()\n",
    "print(dict1.keys())        # return keys in dict\n",
    "\n",
    "# Method values()\n",
    "print(dict1.values())"
   ]
  },
  {
   "cell_type": "markdown",
   "id": "5918eaa5",
   "metadata": {},
   "source": [
    "## Adding elements into the dict"
   ]
  },
  {
   "cell_type": "code",
   "execution_count": 29,
   "id": "ac0180f1",
   "metadata": {},
   "outputs": [
    {
     "name": "stdout",
     "output_type": "stream",
     "text": [
      "{1: 'toi', 2: 'la', 3: 'HITer'}\n"
     ]
    }
   ],
   "source": [
    "print(dict2)"
   ]
  },
  {
   "cell_type": "code",
   "execution_count": null,
   "id": "4627336d",
   "metadata": {},
   "outputs": [
    {
     "name": "stdout",
     "output_type": "stream",
     "text": [
      "{1: 'toi', 2: 'la', 3: 'HITer', 4: '2025'}\n",
      "{1: 'Bạn', 2: 'la', 3: 'HITer', 4: '2025'}\n"
     ]
    }
   ],
   "source": [
    "dict2[4] = \"2025\"\n",
    "print(dict2)\n",
    "\n",
    "# if you add a key that exits in dict, value is updated \n",
    "dict2[1] = 'Bạn'\n",
    "print(dict2)"
   ]
  },
  {
   "cell_type": "markdown",
   "id": "8fcb5110",
   "metadata": {},
   "source": [
    "## Remove Dict Items"
   ]
  },
  {
   "cell_type": "code",
   "execution_count": 38,
   "id": "5bb5438c",
   "metadata": {},
   "outputs": [
    {
     "name": "stdout",
     "output_type": "stream",
     "text": [
      "{'Name': 'Cuong', 'Age': 20, 'Place': 'Hai Phong'}\n",
      "{'Name': 'Cuong', 'Age': 20}\n",
      "Hai Phong\n",
      "{'Name': 'Cuong'}\n",
      "{}\n"
     ]
    }
   ],
   "source": [
    "# Method1: del\n",
    "a = {\n",
    "    \"Name\": \"Cuong\", \n",
    "    \"Age\": 20, \n",
    "    \"Place\": \"Hai Phong\",\n",
    "    \"Job\": \"Student\"\n",
    "}\n",
    "del a[\"Job\"]    #if key isn't exits, return error\n",
    "print(a)\n",
    "\n",
    "\n",
    "# Method2: \n",
    "value_remove = a.pop(\"Place\")    #if key isn't exits, return error\n",
    "print(a)\n",
    "\n",
    "#pop() return value is removed\n",
    "print(value_remove)\n",
    "\n",
    "# Method3: popitem()\n",
    "a.popitem()     # remove random item\n",
    "print(a)\n",
    "\n",
    "# Method4: clear()\n",
    "a.clear()       # remove all item\n",
    "print(a)\n",
    "\n"
   ]
  },
  {
   "cell_type": "markdown",
   "id": "1c0b5917",
   "metadata": {},
   "source": [
    "## Iterating a dict"
   ]
  },
  {
   "cell_type": "code",
   "execution_count": 39,
   "id": "1154940f",
   "metadata": {},
   "outputs": [
    {
     "name": "stdout",
     "output_type": "stream",
     "text": [
      "{'ten': 'Cuong', 'tuoi': 20, 'nghe nghiep': 'sinh vien'}\n"
     ]
    }
   ],
   "source": [
    "print(dict1)"
   ]
  },
  {
   "cell_type": "code",
   "execution_count": 49,
   "id": "d95c604b",
   "metadata": {},
   "outputs": [
    {
     "name": "stdout",
     "output_type": "stream",
     "text": [
      "ten, tuoi, nghe nghiep, \n",
      "\n",
      "Cuong, 20, sinh vien, \n",
      "\n",
      "1: toi\n",
      "2: la\n",
      "3: HITer\n"
     ]
    }
   ],
   "source": [
    "# if you want print keys os dict\n",
    "for key in dict1.keys():\n",
    "    print(key, end = \", \")\n",
    "\n",
    "print(\"\\n\")\n",
    "\n",
    "# if you want print values of dict\n",
    "for value in dict1.values():\n",
    "    print(value, end = \", \")\n",
    "\n",
    "print(\"\\n\")\n",
    "\n",
    "# if you want print (key, value) of dict\n",
    "for key, value in dict.items():\n",
    "    print(key, value, sep = \": \")"
   ]
  },
  {
   "cell_type": "markdown",
   "id": "b92fe7e7",
   "metadata": {},
   "source": [
    "# VD"
   ]
  },
  {
   "cell_type": "code",
   "execution_count": 56,
   "id": "6aec8f2b",
   "metadata": {},
   "outputs": [
    {
     "name": "stdout",
     "output_type": "stream",
     "text": [
      "Năng lực:  Khá\n"
     ]
    }
   ],
   "source": [
    "\n",
    "b = {9: \"Xuất xắc\", 8: \"Giỏi\", 7: \"Khá\"}\n",
    "\n",
    "diem = int(input(\"Nhập điểm kiểm tra của bạn: \"))\n",
    "for key in b:\n",
    "    if diem >= key:\n",
    "        print(\"Năng lực: \", b[key])\n",
    "        \n",
    "if diem < 7:    \n",
    "    print(\"Năng lực: Ổn\")"
   ]
  },
  {
   "cell_type": "code",
   "execution_count": 60,
   "id": "f49e6e2f",
   "metadata": {},
   "outputs": [
    {
     "name": "stdout",
     "output_type": "stream",
     "text": [
      "5\n"
     ]
    }
   ],
   "source": [
    "# Nested Dict\n",
    "c = {1: {\"Cuong\": 5, \"Quang\": 2}, \"Diem\": [1, 2, 3]}\n",
    "print(c[1][\"Cuong\"])"
   ]
  },
  {
   "cell_type": "code",
   "execution_count": null,
   "id": "ef179918",
   "metadata": {},
   "outputs": [],
   "source": []
  }
 ],
 "metadata": {
  "kernelspec": {
   "display_name": "DeepLearning",
   "language": "python",
   "name": "python3"
  },
  "language_info": {
   "codemirror_mode": {
    "name": "ipython",
    "version": 3
   },
   "file_extension": ".py",
   "mimetype": "text/x-python",
   "name": "python",
   "nbconvert_exporter": "python",
   "pygments_lexer": "ipython3",
   "version": "3.12.9"
  }
 },
 "nbformat": 4,
 "nbformat_minor": 5
}
