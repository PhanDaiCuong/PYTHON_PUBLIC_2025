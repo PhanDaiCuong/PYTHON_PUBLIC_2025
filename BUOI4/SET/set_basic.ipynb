{
 "cells": [
  {
   "cell_type": "markdown",
   "id": "20d8f2cb",
   "metadata": {},
   "source": [
    "# **SET**"
   ]
  },
  {
   "cell_type": "markdown",
   "id": "57038d64",
   "metadata": {},
   "source": [
    "## Set is an **unordered** collection of **unique** elements."
   ]
  },
  {
   "cell_type": "markdown",
   "id": "ece9749f",
   "metadata": {},
   "source": [
    "## Create a set"
   ]
  },
  {
   "cell_type": "code",
   "execution_count": null,
   "id": "f53d7814",
   "metadata": {},
   "outputs": [
    {
     "name": "stdout",
     "output_type": "stream",
     "text": [
      "{1, 2, 3.1, 'python'}\n",
      "<class 'set'>\n",
      "{1, 3, 4, 5}\n",
      "<class 'set'>\n",
      "{'H', 'B', ' ', 'T', 'C', 'I', 'L'}\n"
     ]
    }
   ],
   "source": [
    "set1 = {1, 2, 3.1, 2, 'python', 'python'}\n",
    "print(set1)\n",
    "print(type(set1))\n",
    "# NOTE: \n",
    "# Convert from other type to set\n",
    "list1 = [1, 3, 4, 5, 4]\n",
    "set2 = set(list1)\n",
    "print(set2)\n",
    "print(type(set2))\n",
    "\n",
    "string1 = \"CLB HIT\"\n",
    "set3 = set(string1)\n",
    "print(set3)\n",
    "\n",
    "# # Value of set can not change\n",
    "# a = {6, 7 , 8}\n",
    "# a[1] = 10     #Error\n",
    "# print(a)\n",
    "\n",
    "\n",
    "# NOTE: Elements in set is unmutable (int, float, long, string , tuple,..) \n",
    "# VD: \n",
    "# set4 = {[2, 3, 4], {5, 6, 7}} # Error\n",
    "# set5 = {'hehe', (1, 2, 3), 5, 7.3}"
   ]
  },
  {
   "cell_type": "markdown",
   "id": "3797454d",
   "metadata": {},
   "source": [
    "## Set is mutable"
   ]
  },
  {
   "cell_type": "markdown",
   "id": "e83bcc2d",
   "metadata": {},
   "source": [
    "### Add an elements into set"
   ]
  },
  {
   "cell_type": "code",
   "execution_count": null,
   "id": "fafc97ff",
   "metadata": {},
   "outputs": [
    {
     "name": "stdout",
     "output_type": "stream",
     "text": [
      "{1, 'python', 'public', 4, 5, 3}\n",
      "6\n",
      "{1, 'python', 'public', 4, 5, 3}\n"
     ]
    }
   ],
   "source": [
    "a = {1, 4, 5, 'python', 'public'}\n",
    "\n",
    "# Add a new element into set a using method add(value)\n",
    "a.add(3)\n",
    "print(a)\n",
    "\n",
    "print(len(a))\n",
    "# NOTE: if you add a element that already exits in the set, that will not be added \n",
    "a.add(4)\n",
    "print(a) "
   ]
  },
  {
   "cell_type": "markdown",
   "id": "a589e0c1",
   "metadata": {},
   "source": [
    "### Remove an element from set "
   ]
  },
  {
   "cell_type": "code",
   "execution_count": null,
   "id": "78995af9",
   "metadata": {},
   "outputs": [
    {
     "name": "stdout",
     "output_type": "stream",
     "text": [
      "{2, 3, 'python'}\n"
     ]
    }
   ],
   "source": [
    "# Using method remove(value) \n",
    "b = {1, 2, 3, 'python'}\n",
    "b.remove(1)\n",
    "print(b)\n",
    "\n",
    "# # NOTE: if you erase a elements that don't exits in the set, you will recieve error \n",
    "# b.remove(5)"
   ]
  },
  {
   "cell_type": "code",
   "execution_count": null,
   "id": "f261d4ce",
   "metadata": {},
   "outputs": [
    {
     "name": "stdout",
     "output_type": "stream",
     "text": [
      "{'world'}\n",
      "{'world'}\n"
     ]
    }
   ],
   "source": [
    "# Using method discard()\n",
    "c = {'hello', 'world'}\n",
    "c.discard('hello')\n",
    "print(c)\n",
    "\n",
    "c.discard(5)    #Don't error if you erase element that out of set \n",
    "print(c)"
   ]
  },
  {
   "cell_type": "code",
   "execution_count": 20,
   "id": "14cd7f2d",
   "metadata": {},
   "outputs": [
    {
     "name": "stdout",
     "output_type": "stream",
     "text": [
      "{2, 3}\n",
      "set()\n"
     ]
    }
   ],
   "source": [
    "# Using method pop()\n",
    "d = {1, 2, 3}\n",
    "d.pop()     # Erase a random elements\n",
    "print(d)   \n",
    "\n",
    "# Using method clear()\n",
    "e = {4, 5, 6}\n",
    "e.clear()\n",
    "print(e)"
   ]
  },
  {
   "cell_type": "markdown",
   "id": "38c0a050",
   "metadata": {},
   "source": [
    "## Iterator"
   ]
  },
  {
   "cell_type": "code",
   "execution_count": 27,
   "id": "9a62079b",
   "metadata": {},
   "outputs": [
    {
     "name": "stdout",
     "output_type": "stream",
     "text": [
      "1 2 3 "
     ]
    }
   ],
   "source": [
    "a = {1, 2, 3}\n",
    "for x in a:\n",
    "    print(x, end = \" \")"
   ]
  },
  {
   "cell_type": "code",
   "execution_count": 29,
   "id": "ebfc111d",
   "metadata": {},
   "outputs": [
    {
     "name": "stdout",
     "output_type": "stream",
     "text": [
      "{0, 1, 2, 3, 4, 5, 6, 7, 8, 9}\n"
     ]
    }
   ],
   "source": [
    "# You can create set from loop\n",
    "a = set()\n",
    "for i in range(10):\n",
    "    a.add(i)\n",
    "print(a)"
   ]
  },
  {
   "cell_type": "markdown",
   "id": "d5b28c0d",
   "metadata": {},
   "source": [
    "## Math Operation in Set"
   ]
  },
  {
   "cell_type": "code",
   "execution_count": 40,
   "id": "743fa8a2",
   "metadata": {},
   "outputs": [],
   "source": [
    "set1 = {'toi', 'yeu'}\n",
    "set2 = {'HIT', 'toi'}"
   ]
  },
  {
   "cell_type": "markdown",
   "id": "90630cf3",
   "metadata": {},
   "source": [
    "### Union"
   ]
  },
  {
   "cell_type": "code",
   "execution_count": 30,
   "id": "f4bc8b39",
   "metadata": {},
   "outputs": [
    {
     "name": "stdout",
     "output_type": "stream",
     "text": [
      "{'yeu', 'toi', 'HIT'}\n"
     ]
    }
   ],
   "source": [
    "# Using method union() to merge two set\n",
    "result = set1.union(set2)\n",
    "print(result)"
   ]
  },
  {
   "cell_type": "markdown",
   "id": "b63128eb",
   "metadata": {},
   "source": [
    "### Intersection"
   ]
  },
  {
   "cell_type": "code",
   "execution_count": 31,
   "id": "27c6f4c9",
   "metadata": {},
   "outputs": [
    {
     "name": "stdout",
     "output_type": "stream",
     "text": [
      "{'toi'}\n"
     ]
    }
   ],
   "source": [
    "result = set1.intersection(set2)\n",
    "print(result)"
   ]
  },
  {
   "cell_type": "markdown",
   "id": "8334d65b",
   "metadata": {},
   "source": [
    "### Difference"
   ]
  },
  {
   "cell_type": "code",
   "execution_count": 33,
   "id": "67c4459a",
   "metadata": {},
   "outputs": [
    {
     "name": "stdout",
     "output_type": "stream",
     "text": [
      "{'yeu'}\n",
      "{'HIT'}\n"
     ]
    }
   ],
   "source": [
    "result1 = set1.difference(set2)\n",
    "result2 = set2.difference(set1)\n",
    "print(result1)\n",
    "print(result2)"
   ]
  },
  {
   "cell_type": "markdown",
   "id": "8be4f36e",
   "metadata": {},
   "source": [
    "### Symmetric Difference"
   ]
  },
  {
   "cell_type": "code",
   "execution_count": null,
   "id": "55175e61",
   "metadata": {},
   "outputs": [
    {
     "name": "stdout",
     "output_type": "stream",
     "text": [
      "{'yeu', 'HIT'}\n"
     ]
    }
   ],
   "source": [
    "result = set1.symmetric_difference(set2)    # check element belong to one of two set\n",
    "print(result)"
   ]
  },
  {
   "cell_type": "markdown",
   "id": "4c619fd9",
   "metadata": {},
   "source": [
    "### Isdisjoint"
   ]
  },
  {
   "cell_type": "code",
   "execution_count": 36,
   "id": "0536b933",
   "metadata": {},
   "outputs": [
    {
     "name": "stdout",
     "output_type": "stream",
     "text": [
      "False\n"
     ]
    }
   ],
   "source": [
    "result = set1.isdisjoint(set2)  # check set1 and set2 have common\n",
    "print(result)"
   ]
  },
  {
   "cell_type": "code",
   "execution_count": 41,
   "id": "3b424766",
   "metadata": {},
   "outputs": [
    {
     "name": "stdout",
     "output_type": "stream",
     "text": [
      "False\n"
     ]
    }
   ],
   "source": [
    "result = set1.issubset(set2)    # check set1 is subset of set2\n",
    "print(result)"
   ]
  },
  {
   "cell_type": "code",
   "execution_count": null,
   "id": "6a7318e8",
   "metadata": {},
   "outputs": [],
   "source": []
  }
 ],
 "metadata": {
  "kernelspec": {
   "display_name": "DeepLearning",
   "language": "python",
   "name": "python3"
  },
  "language_info": {
   "codemirror_mode": {
    "name": "ipython",
    "version": 3
   },
   "file_extension": ".py",
   "mimetype": "text/x-python",
   "name": "python",
   "nbconvert_exporter": "python",
   "pygments_lexer": "ipython3",
   "version": "3.12.9"
  }
 },
 "nbformat": 4,
 "nbformat_minor": 5
}
