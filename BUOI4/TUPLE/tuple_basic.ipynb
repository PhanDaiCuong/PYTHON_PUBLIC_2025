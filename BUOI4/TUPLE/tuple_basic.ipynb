{
 "cells": [
  {
   "cell_type": "markdown",
   "id": "fba9b0cd",
   "metadata": {},
   "source": [
    "# **TUPLE**"
   ]
  },
  {
   "cell_type": "markdown",
   "id": "7c00cee8",
   "metadata": {},
   "source": [
    "## Tuple is a collection that is an ordered"
   ]
  },
  {
   "cell_type": "markdown",
   "id": "25f5d93d",
   "metadata": {},
   "source": [
    "## Create tuple"
   ]
  },
  {
   "cell_type": "code",
   "execution_count": 5,
   "id": "6188f24f",
   "metadata": {},
   "outputs": [
    {
     "name": "stdout",
     "output_type": "stream",
     "text": [
      "(1, 2, 'python', (1, 2))\n",
      "<class 'tuple'>\n",
      "(1, 2, [1, 2, 3])\n"
     ]
    }
   ],
   "source": [
    "tuple1 = (1,2, 'python', (1, 2))\n",
    "print(tuple1)\n",
    "print(type(tuple1))\n",
    "\n",
    "#Convert other type\n",
    "list1 = [1, 2, [1, 2, 3]]\n",
    "tuple2 = tuple(list1)\n",
    "print(tuple2)\n"
   ]
  },
  {
   "cell_type": "markdown",
   "id": "54fce6a2",
   "metadata": {},
   "source": [
    "## Accessing of Tuples"
   ]
  },
  {
   "cell_type": "code",
   "execution_count": 6,
   "id": "9da121b0",
   "metadata": {},
   "outputs": [
    {
     "name": "stdout",
     "output_type": "stream",
     "text": [
      "1\n",
      "(1, 2, 3)\n",
      "1, 2, 3, python\n"
     ]
    }
   ],
   "source": [
    "a = (1, 2, 3, 'python')\n",
    "\n",
    "# Accessing with index\n",
    "print(a[0])\n",
    "\n",
    "# Accessing with range\n",
    "print(a[0:3])\n",
    "\n",
    "# Accessing with unpack\n",
    "a, b, c, d = a\n",
    "print(a, b, c, d, sep = \", \")"
   ]
  },
  {
   "cell_type": "markdown",
   "id": "85211fce",
   "metadata": {},
   "source": [
    "## Itaration Tuple"
   ]
  },
  {
   "cell_type": "code",
   "execution_count": null,
   "id": "4376c114",
   "metadata": {},
   "outputs": [
    {
     "name": "stdout",
     "output_type": "stream",
     "text": [
      "2 3 4 5 7 8 \n",
      "2 3 4 5 7 8 "
     ]
    }
   ],
   "source": [
    "a = (2, 3, 4, 5, 7, 8)\n",
    "\n",
    "# Method 1: For each\n",
    "\n",
    "for x in a:\n",
    "    print(x, end = ' ')\n",
    "    \n",
    "print()\n",
    "\n",
    "# Method 2: For\n",
    "for i in range(len(a)):\n",
    "    print(a[i], end = ' ')\n",
    "\n"
   ]
  },
  {
   "cell_type": "markdown",
   "id": "7b4d5918",
   "metadata": {},
   "source": [
    "## Tuple is immutable"
   ]
  },
  {
   "cell_type": "code",
   "execution_count": 10,
   "id": "857d1167",
   "metadata": {},
   "outputs": [
    {
     "name": "stdout",
     "output_type": "stream",
     "text": [
      "(2, 3, 4, 5, 7, 8)\n"
     ]
    }
   ],
   "source": [
    "print(a)"
   ]
  },
  {
   "cell_type": "code",
   "execution_count": null,
   "id": "11a40cb4",
   "metadata": {},
   "outputs": [
    {
     "ename": "TypeError",
     "evalue": "'tuple' object does not support item assignment",
     "output_type": "error",
     "traceback": [
      "\u001b[31m---------------------------------------------------------------------------\u001b[39m",
      "\u001b[31mTypeError\u001b[39m                                 Traceback (most recent call last)",
      "\u001b[36mCell\u001b[39m\u001b[36m \u001b[39m\u001b[32mIn[12]\u001b[39m\u001b[32m, line 1\u001b[39m\n\u001b[32m----> \u001b[39m\u001b[32m1\u001b[39m \u001b[43ma\u001b[49m\u001b[43m[\u001b[49m\u001b[32;43m0\u001b[39;49m\u001b[43m]\u001b[49m = \u001b[32m10\u001b[39m   \u001b[38;5;66;03m# --> Error\u001b[39;00m\n",
      "\u001b[31mTypeError\u001b[39m: 'tuple' object does not support item assignment"
     ]
    }
   ],
   "source": [
    "# a[0] = 10   # --> Error"
   ]
  },
  {
   "cell_type": "markdown",
   "id": "6dbc4300",
   "metadata": {},
   "source": [
    "# Repeat and Concate tuple\n"
   ]
  },
  {
   "cell_type": "code",
   "execution_count": 15,
   "id": "a4b45969",
   "metadata": {},
   "outputs": [
    {
     "name": "stdout",
     "output_type": "stream",
     "text": [
      "('hit', 'python', 'public', 1, 2, '2025')\n",
      "('hit', 'python', 'public', 'hit', 'python', 'public')\n"
     ]
    }
   ],
   "source": [
    "# concate\n",
    "a1 = ('hit', 'python', 'public')\n",
    "a2 = (1, 2, '2025')\n",
    "tuple_concate = a1 + a2\n",
    "print(tuple_concate)\n",
    "\n",
    "# repeate\n",
    "c = a1 * 2\n",
    "print(c)"
   ]
  },
  {
   "cell_type": "markdown",
   "id": "f1324ae6",
   "metadata": {},
   "source": [
    "## Sort Tuple"
   ]
  },
  {
   "cell_type": "code",
   "execution_count": 19,
   "id": "06ead5e1",
   "metadata": {},
   "outputs": [
    {
     "name": "stdout",
     "output_type": "stream",
     "text": [
      "(5, 7, 8, 10)\n"
     ]
    }
   ],
   "source": [
    "c = (10, 8, 7, 5)\n",
    "c_sort = tuple(sorted(c))   #sorted return a list -> conver to tuple\n",
    "print(c_sort)"
   ]
  },
  {
   "cell_type": "markdown",
   "id": "d8b83055",
   "metadata": {},
   "source": [
    "## Other Method"
   ]
  },
  {
   "cell_type": "code",
   "execution_count": 20,
   "id": "6127898f",
   "metadata": {},
   "outputs": [
    {
     "name": "stdout",
     "output_type": "stream",
     "text": [
      "3\n"
     ]
    }
   ],
   "source": [
    "# Count()\n",
    "a = (1, 2, 3, 4, 5, 3, 1, 1, 2)\n",
    "print(a.count(1))"
   ]
  },
  {
   "cell_type": "code",
   "execution_count": 22,
   "id": "2682c4a9",
   "metadata": {},
   "outputs": [
    {
     "name": "stdout",
     "output_type": "stream",
     "text": [
      "1\n"
     ]
    }
   ],
   "source": [
    "# Index()\n",
    "print(a.index(2))"
   ]
  },
  {
   "cell_type": "code",
   "execution_count": null,
   "id": "51d5fbf0",
   "metadata": {},
   "outputs": [],
   "source": []
  }
 ],
 "metadata": {
  "kernelspec": {
   "display_name": "DeepLearning",
   "language": "python",
   "name": "python3"
  },
  "language_info": {
   "codemirror_mode": {
    "name": "ipython",
    "version": 3
   },
   "file_extension": ".py",
   "mimetype": "text/x-python",
   "name": "python",
   "nbconvert_exporter": "python",
   "pygments_lexer": "ipython3",
   "version": "3.12.9"
  }
 },
 "nbformat": 4,
 "nbformat_minor": 5
}
