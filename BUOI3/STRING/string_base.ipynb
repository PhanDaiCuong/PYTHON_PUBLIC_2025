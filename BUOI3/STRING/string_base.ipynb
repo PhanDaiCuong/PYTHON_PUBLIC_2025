{
 "cells": [
  {
   "cell_type": "markdown",
   "id": "b5f012eb",
   "metadata": {},
   "source": [
    "# STRING"
   ]
  },
  {
   "cell_type": "code",
   "execution_count": 3,
   "id": "bec9e2d8",
   "metadata": {},
   "outputs": [
    {
     "name": "stdout",
     "output_type": "stream",
     "text": [
      "Hello <class 'str'>\n"
     ]
    }
   ],
   "source": [
    "# create string\n",
    "s1 = 'Hello'\n",
    "s2 = \"Python\"\n",
    "print(s1, type(s1))\n",
    "# # Error\n",
    "# s3 = 'Error\"\n"
   ]
  },
  {
   "cell_type": "code",
   "execution_count": 2,
   "id": "328dcda7",
   "metadata": {},
   "outputs": [
    {
     "name": "stdout",
     "output_type": "stream",
     "text": [
      "100 <class 'int'>\n",
      "100 <class 'str'>\n"
     ]
    }
   ],
   "source": [
    "#Convert other type to str\n",
    "a = 100\n",
    "print(a, type(a))\n",
    "b = str(a)\n",
    "print(b, type(b))"
   ]
  },
  {
   "cell_type": "code",
   "execution_count": 7,
   "id": "400896b6",
   "metadata": {},
   "outputs": [
    {
     "name": "stdout",
     "output_type": "stream",
     "text": [
      "H I T \n",
      "H I T "
     ]
    }
   ],
   "source": [
    "# str is iterable\n",
    "s = 'HIT'\n",
    "for i in s:\n",
    "    print(i, end = ' ')\n",
    "print()\n",
    "for i in range(len(s)):\n",
    "    print(s[i], end = ' ')"
   ]
  },
  {
   "cell_type": "code",
   "execution_count": 11,
   "id": "3a106aad",
   "metadata": {},
   "outputs": [
    {
     "name": "stdout",
     "output_type": "stream",
     "text": [
      "i\n",
      "a\n"
     ]
    }
   ],
   "source": [
    "# Access by index\n",
    "s = 'Xin chao'\n",
    "print(s[1])\n",
    "\n",
    "print(s[-2])"
   ]
  },
  {
   "cell_type": "code",
   "execution_count": 16,
   "id": "de243a0e",
   "metadata": {},
   "outputs": [
    {
     "name": "stdout",
     "output_type": "stream",
     "text": [
      "CLB HIT\n"
     ]
    }
   ],
   "source": [
    "# String slicing\n",
    "s = 'toi la thanh vien cua CLB HIT'\n",
    "s1 = s[22:]\n",
    "print(s1)"
   ]
  },
  {
   "cell_type": "markdown",
   "id": "3d0225cf",
   "metadata": {},
   "source": [
    "## String is unmutable. "
   ]
  },
  {
   "cell_type": "code",
   "execution_count": 25,
   "id": "28315874",
   "metadata": {},
   "outputs": [
    {
     "name": "stdout",
     "output_type": "stream",
     "text": [
      "[10, 2, 3]\n",
      "P\n"
     ]
    }
   ],
   "source": [
    "a = [1, 2, 3]\n",
    "a[0] = 10\n",
    "print(a)\n",
    "\n",
    "b = 'PUBLIC'\n",
    "print(b[0])\n",
    "# b[0] = 'K'"
   ]
  },
  {
   "cell_type": "code",
   "execution_count": 27,
   "id": "1c614a5a",
   "metadata": {},
   "outputs": [
    {
     "name": "stdout",
     "output_type": "stream",
     "text": [
      "Hit PYTHON PUBLIC\n",
      "HIT PYTHON PUBLIC\n"
     ]
    }
   ],
   "source": [
    "# replace()\n",
    "string1 = 'HIT PYTHON PUBLIC'\n",
    "string2 = string1.replace('HIT', 'Hit')\n",
    "print(string2)\n",
    "print(string1)"
   ]
  },
  {
   "cell_type": "code",
   "execution_count": 31,
   "id": "1fbd9f5e",
   "metadata": {},
   "outputs": [
    {
     "name": "stdout",
     "output_type": "stream",
     "text": [
      "['HIT', 'PYTHON', 'PUBLIC']\n"
     ]
    }
   ],
   "source": [
    "# split()\n",
    "a = string1.split(' ')\n",
    "print(a)"
   ]
  },
  {
   "cell_type": "code",
   "execution_count": 33,
   "id": "378ba63c",
   "metadata": {},
   "outputs": [
    {
     "name": "stdout",
     "output_type": "stream",
     "text": [
      "toi yeu HIT\n"
     ]
    }
   ],
   "source": [
    "# join()\n",
    "b = ['toi', 'yeu', 'HIT']\n",
    "result = ' '.join(b)\n",
    "print(result)"
   ]
  },
  {
   "cell_type": "code",
   "execution_count": null,
   "id": "05ecf251",
   "metadata": {},
   "outputs": [
    {
     "name": "stdout",
     "output_type": "stream",
     "text": [
      " HELLO WORLD\n",
      " hello world\n",
      "Hello world\n",
      " Hello World\n"
     ]
    }
   ],
   "source": [
    "# Modify string\n",
    "\n",
    "#upper()\n",
    "s = ' Hello world'\n",
    "print(s.upper())\n",
    "\n",
    "#lower()\n",
    "print(s.lower())\n",
    "\n",
    "#remove whitespace\n",
    "print(s.strip())\n",
    "\n",
    "#title()\n",
    "print(s.title())\n",
    "\n"
   ]
  },
  {
   "cell_type": "code",
   "execution_count": null,
   "id": "3cae726c",
   "metadata": {},
   "outputs": [
    {
     "name": "stdout",
     "output_type": "stream",
     "text": [
      "YES\n",
      "0\n"
     ]
    }
   ],
   "source": [
    "# Check string in orther string\n",
    "s = 'xin chao Viet Nam'\n",
    "s_small = 'xin'\n",
    "if s_small in s:\n",
    "    print('YES')\n",
    "else:\n",
    "    print('NO')\n",
    "\n",
    "\n",
    "# find()\n",
    "print(s.find(s_small)) #True -> 0 , False -> -1\n"
   ]
  },
  {
   "cell_type": "code",
   "execution_count": 41,
   "id": "5e1dd29d",
   "metadata": {},
   "outputs": [
    {
     "name": "stdout",
     "output_type": "stream",
     "text": [
      "Tôi tên là Cuong, năm nay tôi 20\n"
     ]
    }
   ],
   "source": [
    "# String format\n",
    "s = \"Tôi tên là {}, năm nay tôi {}\".format('Cuong', 20)\n",
    "print(s)"
   ]
  },
  {
   "cell_type": "code",
   "execution_count": null,
   "id": "185e8606",
   "metadata": {},
   "outputs": [],
   "source": []
  }
 ],
 "metadata": {
  "kernelspec": {
   "display_name": "DeepLearning",
   "language": "python",
   "name": "python3"
  },
  "language_info": {
   "codemirror_mode": {
    "name": "ipython",
    "version": 3
   },
   "file_extension": ".py",
   "mimetype": "text/x-python",
   "name": "python",
   "nbconvert_exporter": "python",
   "pygments_lexer": "ipython3",
   "version": "3.12.9"
  }
 },
 "nbformat": 4,
 "nbformat_minor": 5
}
