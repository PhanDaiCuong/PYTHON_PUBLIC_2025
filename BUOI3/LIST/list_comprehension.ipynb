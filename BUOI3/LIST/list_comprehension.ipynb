{
 "cells": [
  {
   "cell_type": "markdown",
   "id": "75cfd883",
   "metadata": {},
   "source": [
    "# List Comprehension"
   ]
  },
  {
   "cell_type": "markdown",
   "id": "85512748",
   "metadata": {},
   "source": [
    "[Expression for var in interable]"
   ]
  },
  {
   "cell_type": "code",
   "execution_count": 8,
   "id": "3ee631d1",
   "metadata": {},
   "outputs": [],
   "source": [
    "a = [1, 2, 3]"
   ]
  },
  {
   "cell_type": "code",
   "execution_count": 9,
   "id": "733bbe7d",
   "metadata": {},
   "outputs": [
    {
     "name": "stdout",
     "output_type": "stream",
     "text": [
      "[1, 2, 3]\n"
     ]
    }
   ],
   "source": [
    "# Copy list\n",
    "b = [x for x in a]\n",
    "print(b)\n"
   ]
  },
  {
   "cell_type": "code",
   "execution_count": 10,
   "id": "20514282",
   "metadata": {},
   "outputs": [
    {
     "name": "stdout",
     "output_type": "stream",
     "text": [
      "[1, 4, 9]\n"
     ]
    }
   ],
   "source": [
    "# Create list b \n",
    "b = [x ** 2 for x in a]\n",
    "print(b)"
   ]
  },
  {
   "cell_type": "markdown",
   "id": "3e37aa5e",
   "metadata": {},
   "source": []
  },
  {
   "cell_type": "code",
   "execution_count": 11,
   "id": "1c9cc2ed",
   "metadata": {},
   "outputs": [
    {
     "name": "stdout",
     "output_type": "stream",
     "text": [
      "[0, 1, 2, 3, 4, 5, 6, 7, 8, 9]\n"
     ]
    }
   ],
   "source": [
    "# Create a list from range\n",
    "a = [i for i in range(10)]\n",
    "print(a)"
   ]
  },
  {
   "cell_type": "code",
   "execution_count": 20,
   "id": "2a091435",
   "metadata": {},
   "outputs": [
    {
     "name": "stdout",
     "output_type": "stream",
     "text": [
      "[2, 4]\n"
     ]
    }
   ],
   "source": [
    "# Combine with if\n",
    "a = [1, 2, 3, 4, 5]\n",
    "b = [x for x in a if x % 2 == 0]\n",
    "print(b)"
   ]
  },
  {
   "cell_type": "code",
   "execution_count": 19,
   "id": "da2e1da8",
   "metadata": {},
   "outputs": [
    {
     "name": "stdout",
     "output_type": "stream",
     "text": [
      "Tổng chữ số là:  [1, 2, 3, 3]\n"
     ]
    }
   ],
   "source": [
    "# Combine with function\n",
    "def sum_digit(x): \n",
    "    sum = 0\n",
    "    while x != 0:\n",
    "        sum += x % 10\n",
    "        x //= 10\n",
    "    return sum\n",
    "\n",
    "a = [1, 2, 12, 30]\n",
    "result = [sum_digit(x) for x in a]\n",
    "print(\"Tổng chữ số là: \", result)\n"
   ]
  },
  {
   "cell_type": "code",
   "execution_count": null,
   "id": "d80391d5",
   "metadata": {},
   "outputs": [
    {
     "name": "stdout",
     "output_type": "stream",
     "text": [
      "[1, 2, 4, 2, 5, 8, 'a', 'b', 5]\n"
     ]
    }
   ],
   "source": [
    "# Nested List comprehension\n",
    "c = [[1, 2, 4], [2, 5, 8], ['a', 'b', 5]]\n",
    "\n",
    "d = [x for tmp in c for x in tmp]\n"
   ]
  },
  {
   "cell_type": "code",
   "execution_count": 28,
   "id": "0f7d3951",
   "metadata": {},
   "outputs": [
    {
     "name": "stdout",
     "output_type": "stream",
     "text": [
      "['C++', 'Hello', 'Python']\n",
      "[0, 1, 4, 9, 16, 25, 36, 49, 64, 81]\n"
     ]
    }
   ],
   "source": [
    "# Lambda\n",
    "b = ['Hello', 'Python', 'C++']\n",
    "\n",
    "c = sorted(b, key = lambda x : len(x))\n",
    "print(c)\n",
    "\n",
    "# lamda and map\n",
    "a = [x for x in range(10)]\n",
    "a_quared = list(map(lambda x : x ** 2, a))\n",
    "print(a_quared)"
   ]
  },
  {
   "cell_type": "code",
   "execution_count": 29,
   "id": "e19577eb",
   "metadata": {},
   "outputs": [
    {
     "name": "stdout",
     "output_type": "stream",
     "text": [
      "[0, 2, 4, 6, 8]\n"
     ]
    }
   ],
   "source": [
    "# filter\n",
    "a = [x for x in range(10)]\n",
    "even = list(filter(lambda x: x % 2 ==0, a))\n",
    "print(even)"
   ]
  },
  {
   "cell_type": "code",
   "execution_count": null,
   "id": "cdd6801b",
   "metadata": {},
   "outputs": [],
   "source": []
  }
 ],
 "metadata": {
  "kernelspec": {
   "display_name": "DeepLearning",
   "language": "python",
   "name": "python3"
  },
  "language_info": {
   "codemirror_mode": {
    "name": "ipython",
    "version": 3
   },
   "file_extension": ".py",
   "mimetype": "text/x-python",
   "name": "python",
   "nbconvert_exporter": "python",
   "pygments_lexer": "ipython3",
   "version": "3.12.9"
  }
 },
 "nbformat": 4,
 "nbformat_minor": 5
}
