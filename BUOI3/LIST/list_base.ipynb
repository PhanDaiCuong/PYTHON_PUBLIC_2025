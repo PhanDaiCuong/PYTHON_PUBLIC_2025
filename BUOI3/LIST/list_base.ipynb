{
  "cells": [
    {
      "cell_type": "markdown",
      "metadata": {
        "id": "FKg93wi9VfbQ"
      },
      "source": [
        "# **LIST**"
      ]
    },
    {
      "cell_type": "markdown",
      "metadata": {
        "id": "1UeCmprQWss_"
      },
      "source": [
        "## Empty list"
      ]
    },
    {
      "cell_type": "code",
      "execution_count": 1,
      "metadata": {
        "colab": {
          "base_uri": "https://localhost:8080/"
        },
        "id": "E225xJ0cWr7r",
        "outputId": "3381381b-9780-4d43-9d55-a74d3896509b"
      },
      "outputs": [
        {
          "name": "stdout",
          "output_type": "stream",
          "text": [
            "<class 'list'>\n"
          ]
        }
      ],
      "source": [
        "list_emp = []\n",
        "print(type(list_emp))"
      ]
    },
    {
      "cell_type": "markdown",
      "metadata": {
        "id": "K7oNAgunVLAT"
      },
      "source": [
        "## List with elements of ***different data type***"
      ]
    },
    {
      "cell_type": "code",
      "execution_count": 2,
      "metadata": {
        "colab": {
          "base_uri": "https://localhost:8080/"
        },
        "id": "GNsn147oVYs-",
        "outputId": "1916a5eb-0ff1-40ac-b5f0-e2c226438d59"
      },
      "outputs": [
        {
          "name": "stdout",
          "output_type": "stream",
          "text": [
            "['Hello', 1, 3.2, [2, '10']]\n"
          ]
        }
      ],
      "source": [
        "list1 = [\"Hello\", 1, 3.2, [2, '10']]\n",
        "print(list1)"
      ]
    },
    {
      "cell_type": "markdown",
      "metadata": {
        "id": "r5mCW2BJXonC"
      },
      "source": [
        "## List are ordered     -->Accessed by index\n"
      ]
    },
    {
      "cell_type": "code",
      "execution_count": 11,
      "metadata": {
        "colab": {
          "base_uri": "https://localhost:8080/"
        },
        "id": "j8AATxP1YnYl",
        "outputId": "a693e926-ad93-4023-805e-bf0b4b393bd4"
      },
      "outputs": [
        {
          "name": "stdout",
          "output_type": "stream",
          "text": [
            "4\n"
          ]
        }
      ],
      "source": [
        "print(len(list1))"
      ]
    },
    {
      "cell_type": "markdown",
      "metadata": {
        "id": "9J2EYKE1ZLn3"
      },
      "source": [
        "### Index"
      ]
    },
    {
      "cell_type": "code",
      "execution_count": 12,
      "metadata": {
        "colab": {
          "base_uri": "https://localhost:8080/"
        },
        "id": "SlN7MQvTYiBG",
        "outputId": "df3c6449-0c96-4e4b-89d1-adc532ebf4f5"
      },
      "outputs": [
        {
          "name": "stdout",
          "output_type": "stream",
          "text": [
            "<class 'str'>\n",
            "<class 'int'>\n",
            "<class 'float'>\n",
            "<class 'list'>\n"
          ]
        }
      ],
      "source": [
        "print(type(list1[0]))\n",
        "print(type(list1[1]))\n",
        "print(type(list1[2]))\n",
        "print(type(list1[3]))"
      ]
    },
    {
      "cell_type": "code",
      "execution_count": 8,
      "metadata": {
        "colab": {
          "base_uri": "https://localhost:8080/"
        },
        "id": "6NQGx69JVwHd",
        "outputId": "6175362f-5071-401a-b8a2-f7abb56ad90c"
      },
      "outputs": [
        {
          "name": "stdout",
          "output_type": "stream",
          "text": [
            "[2, 2, 'hello', 'hello']\n"
          ]
        }
      ],
      "source": [
        "list2 = [2, 2, 'hello', 'hello']\n",
        "print(list2)"
      ]
    },
    {
      "cell_type": "markdown",
      "metadata": {
        "id": "me4EWA96ZIvd"
      },
      "source": [
        "### Index Negative"
      ]
    },
    {
      "cell_type": "code",
      "execution_count": 14,
      "metadata": {
        "colab": {
          "base_uri": "https://localhost:8080/"
        },
        "id": "Yuv8crIoV6R2",
        "outputId": "fe38b84a-8f21-4d03-966b-c68a5a9492cc"
      },
      "outputs": [
        {
          "name": "stdout",
          "output_type": "stream",
          "text": [
            "[2, '10']\n",
            "3.2\n"
          ]
        }
      ],
      "source": [
        "print(list1[-1])\n",
        "print(list1[-2])"
      ]
    },
    {
      "cell_type": "markdown",
      "metadata": {
        "id": "Y48TowWyaAXG"
      },
      "source": [
        "### Index Error"
      ]
    },
    {
      "cell_type": "code",
      "execution_count": 15,
      "metadata": {
        "colab": {
          "base_uri": "https://localhost:8080/",
          "height": 143
        },
        "id": "HszYJAlhalfl",
        "outputId": "201ebf51-e7c3-4c20-c112-41dcb421643c"
      },
      "outputs": [
        {
          "ename": "IndexError",
          "evalue": "list index out of range",
          "output_type": "error",
          "traceback": [
            "\u001b[0;31m---------------------------------------------------------------------------\u001b[0m",
            "\u001b[0;31mIndexError\u001b[0m                                Traceback (most recent call last)",
            "\u001b[0;32m/tmp/ipython-input-15-4291130075.py\u001b[0m in \u001b[0;36m<cell line: 0>\u001b[0;34m()\u001b[0m\n\u001b[0;32m----> 1\u001b[0;31m \u001b[0mprint\u001b[0m\u001b[0;34m(\u001b[0m\u001b[0mlist1\u001b[0m\u001b[0;34m[\u001b[0m\u001b[0;36m4\u001b[0m\u001b[0;34m]\u001b[0m\u001b[0;34m)\u001b[0m\u001b[0;34m\u001b[0m\u001b[0;34m\u001b[0m\u001b[0m\n\u001b[0m",
            "\u001b[0;31mIndexError\u001b[0m: list index out of range"
          ]
        }
      ],
      "source": [
        "print(list1[4])"
      ]
    },
    {
      "cell_type": "markdown",
      "metadata": {
        "id": "KF-4ZMFIbr_U"
      },
      "source": [
        "## List Are Changeable --> Using method **Add**, **Change**, **Remove**"
      ]
    },
    {
      "cell_type": "markdown",
      "metadata": {
        "id": "PUyiY30odon2"
      },
      "source": [
        "### Change  Value"
      ]
    },
    {
      "cell_type": "code",
      "execution_count": 19,
      "metadata": {
        "id": "4ime3hVhb4TE"
      },
      "outputs": [],
      "source": [
        "list1[0] = 10\n",
        "print(list1)\n"
      ]
    },
    {
      "cell_type": "code",
      "execution_count": 20,
      "metadata": {
        "colab": {
          "base_uri": "https://localhost:8080/"
        },
        "id": "-xTQM-yhb-j_",
        "outputId": "a521dada-11a1-4ec4-b5ec-12fea1d9e0c1"
      },
      "outputs": [
        {
          "name": "stdout",
          "output_type": "stream",
          "text": [
            "[10, 1, 3.2, [2, '10']]\n"
          ]
        }
      ],
      "source": [
        "list1[-2] = 5\n",
        "print(list1)"
      ]
    },
    {
      "cell_type": "markdown",
      "metadata": {
        "id": "AJiNypr5d6VG"
      },
      "source": [
        "### Add Value"
      ]
    },
    {
      "cell_type": "code",
      "execution_count": 49,
      "metadata": {
        "id": "BeA2Ay8Mj-Zj"
      },
      "outputs": [],
      "source": [
        "list3 = [1, 2, 'a']\n"
      ]
    },
    {
      "cell_type": "code",
      "execution_count": 50,
      "metadata": {
        "id": "Tl1rhJMnkBIf"
      },
      "outputs": [],
      "source": [
        "list3.append(1)"
      ]
    },
    {
      "cell_type": "code",
      "execution_count": 51,
      "metadata": {
        "colab": {
          "base_uri": "https://localhost:8080/"
        },
        "id": "5tvtlPN4kDwW",
        "outputId": "4d620431-041e-4256-98f9-be5d5e7100b3"
      },
      "outputs": [
        {
          "data": {
            "text/plain": [
              "[1, 2, 'a', 1]"
            ]
          },
          "execution_count": 51,
          "metadata": {},
          "output_type": "execute_result"
        }
      ],
      "source": [
        "list3"
      ]
    },
    {
      "cell_type": "code",
      "execution_count": 41,
      "metadata": {
        "colab": {
          "base_uri": "https://localhost:8080/"
        },
        "id": "vJu-elXSd5-b",
        "outputId": "c8059d13-5b13-4cb0-b10c-11ad3809ebef"
      },
      "outputs": [
        {
          "name": "stdout",
          "output_type": "stream",
          "text": [
            "[1, 2, 'a', 2]\n",
            "[100, 1, 2, 'a', 2]\n",
            "[10, 'b', 20, 'Python']\n"
          ]
        }
      ],
      "source": [
        "# Using append() method to add value to the  end of list\n",
        "list3 = [1, 2, 'a']\n",
        "list3.append(2)\n",
        "print(list3)\n",
        "\n",
        "# Using insert() method to add value to the any position of list\n",
        "list3.insert(0, 100)  #(index, value)\n",
        "print(list3)\n",
        "\n",
        "list4 = [10, 'b', 'Python']\n",
        "list4.insert(-1, 20)\n",
        "print(list4)\n"
      ]
    },
    {
      "cell_type": "code",
      "execution_count": 42,
      "metadata": {
        "colab": {
          "base_uri": "https://localhost:8080/"
        },
        "id": "XSUzgDfsgqEi",
        "outputId": "57a782b6-d465-4edf-bef2-102fa97c62e6"
      },
      "outputs": [
        {
          "data": {
            "text/plain": [
              "[10, 'b', 20, 'Python']"
            ]
          },
          "execution_count": 42,
          "metadata": {},
          "output_type": "execute_result"
        }
      ],
      "source": [
        "list4"
      ]
    },
    {
      "cell_type": "code",
      "execution_count": 43,
      "metadata": {
        "colab": {
          "base_uri": "https://localhost:8080/"
        },
        "id": "ZutIOdJwgr0s",
        "outputId": "b303c53a-671f-455c-cecd-d03810129005"
      },
      "outputs": [
        {
          "name": "stdout",
          "output_type": "stream",
          "text": [
            "[10, 'b', 20, 'Python', 100]\n"
          ]
        }
      ],
      "source": [
        "# Note\n",
        "list4.insert(20, 100)   #Out of Index -> add value to start/end index\n",
        "print(list4)"
      ]
    },
    {
      "cell_type": "code",
      "execution_count": 44,
      "metadata": {
        "colab": {
          "base_uri": "https://localhost:8080/"
        },
        "id": "cBs03PdSio7u",
        "outputId": "6c74224b-9259-4128-a669-389b715a74f8"
      },
      "outputs": [
        {
          "name": "stdout",
          "output_type": "stream",
          "text": [
            "[100, 1, 2, 'a', 2]\n",
            "[10, 'b', 20, 'Python', 100]\n"
          ]
        }
      ],
      "source": [
        "print(list3)\n",
        "print(list4)"
      ]
    },
    {
      "cell_type": "code",
      "execution_count": 58,
      "metadata": {
        "colab": {
          "base_uri": "https://localhost:8080/"
        },
        "id": "DCYaEfhFhxrT",
        "outputId": "9470df9c-32ed-458f-fdf0-58110c4ffa43"
      },
      "outputs": [
        {
          "name": "stdout",
          "output_type": "stream",
          "text": [
            "[1, 2, 3, '1']\n",
            "[1, 2, 3, ['1']]\n"
          ]
        }
      ],
      "source": [
        "# Difference between append() and extend() method\n",
        "list1 = [1, 2, 3]\n",
        "list2 = [1, 2, 3]\n",
        "list1.extend(['1'])\n",
        "print(list1)\n",
        "list2.append(['1'])\n",
        "print(list2)"
      ]
    },
    {
      "cell_type": "markdown",
      "metadata": {
        "id": "xED7gO-Eftt5"
      },
      "source": [
        "### Remove Value"
      ]
    },
    {
      "cell_type": "code",
      "execution_count": 70,
      "metadata": {
        "colab": {
          "base_uri": "https://localhost:8080/",
          "height": 70
        },
        "id": "lTSpMk5YcUUN",
        "outputId": "79cf1a3f-650a-4347-b3af-1c35b5bae709"
      },
      "outputs": [
        {
          "name": "stdout",
          "output_type": "stream",
          "text": [
            "10\n",
            "[1, 100, 'a']\n"
          ]
        },
        {
          "data": {
            "application/vnd.google.colaboratory.intrinsic+json": {
              "type": "string"
            },
            "text/plain": [
              "'a'"
            ]
          },
          "execution_count": 70,
          "metadata": {},
          "output_type": "execute_result"
        }
      ],
      "source": [
        "# Using pop() method to delete index of list and return value deleted\n",
        "list5 = [1, 10, 100, 'a']\n",
        "value_dele = list5.pop(1)\n",
        "print(value_dele)\n",
        "print(list5)\n",
        "\n",
        "list5.pop()  # delete index end\n",
        "\n",
        "# # Index Error\n",
        "# list5.pop(10)"
      ]
    },
    {
      "cell_type": "code",
      "execution_count": 67,
      "metadata": {
        "colab": {
          "base_uri": "https://localhost:8080/"
        },
        "id": "2s3hNoCvlKh-",
        "outputId": "388d63e3-0b0e-4abd-ab66-af017157089f"
      },
      "outputs": [
        {
          "name": "stdout",
          "output_type": "stream",
          "text": [
            "['b', 2, 5, 7]\n",
            "[]\n"
          ]
        }
      ],
      "source": [
        "# Using remove() method to delete value of list\n",
        "list6 = ['a', 'b', 2, 5, 7]\n",
        "list6.remove('a')       #don't return value\n",
        "print(list6)\n",
        "\n",
        "\n",
        "# # If value isn't exist return error\n",
        "# list6.remove(10)\n"
      ]
    },
    {
      "cell_type": "code",
      "execution_count": null,
      "metadata": {
        "id": "ze7pF5cbmda3"
      },
      "outputs": [],
      "source": [
        "# Using clear() method to delete all value of list\n",
        "list6.clear()\n",
        "print(list6)"
      ]
    },
    {
      "cell_type": "markdown",
      "metadata": {
        "id": "H2kxnP5rlG6b"
      },
      "source": []
    },
    {
      "cell_type": "code",
      "execution_count": 94,
      "metadata": {
        "colab": {
          "base_uri": "https://localhost:8080/"
        },
        "id": "VKH58okvaHDi",
        "outputId": "af0fe132-bab3-4687-a13d-a4f869c95973"
      },
      "outputs": [
        {
          "name": "stdout",
          "output_type": "stream",
          "text": [
            "[3, 4, 5]\n",
            "[3, 4, 5]\n",
            "[4, 5, 'a', 'b', 'c']\n",
            "[1, 2, 3, 4, 5, 'a', 'b', 'c']\n",
            "[5, 'a']\n",
            "[3, 2, 1]\n",
            "[1, 8, 9, 4, 5]\n",
            "[1, 8, 4, 5]\n"
          ]
        }
      ],
      "source": []
    },
    {
      "cell_type": "markdown",
      "metadata": {
        "id": "ca5d4GyZoqnk"
      },
      "source": [
        "## List is Iterable"
      ]
    },
    {
      "cell_type": "code",
      "execution_count": 78,
      "metadata": {
        "colab": {
          "base_uri": "https://localhost:8080/"
        },
        "id": "MN17MaPGotsu",
        "outputId": "0bc9c574-943d-40b1-a2d4-59edc98bee6b"
      },
      "outputs": [
        {
          "name": "stdout",
          "output_type": "stream",
          "text": [
            "1 2 a 2.3 4 5 b \n",
            "1, 2, a, 2.3, 4, 5, b, "
          ]
        }
      ],
      "source": [
        "list_a = [1, 2, 'a', 2.3, 4, 5, 'b']\n",
        "# print(len(list_a))\n",
        "\n",
        "# Method1:\n",
        "for i in range(len(list_a)):\n",
        "    print(list_a[i], end = ' ')\n",
        "\n",
        "print()\n",
        "\n",
        "# Method2:\n",
        "for x in list_a:\n",
        "    print(x, end = ', ')"
      ]
    },
    {
      "cell_type": "markdown",
      "metadata": {
        "id": "cI2t88y-vPi5"
      },
      "source": [
        "## List Other Method"
      ]
    },
    {
      "cell_type": "code",
      "execution_count": null,
      "metadata": {
        "colab": {
          "base_uri": "https://localhost:8080/"
        },
        "id": "C9217SQ6vWS7",
        "outputId": "bc28ca4d-417b-4e34-a53f-9bcf993f8170"
      },
      "outputs": [
        {
          "name": "stdout",
          "output_type": "stream",
          "text": [
            "[1, 2, 5, 1, 2, 5]\n",
            "2\n",
            "2\n",
            "[5, 2, 1]\n",
            "[1, 1, 2, 2, 5, 5]\n",
            "None\n"
          ]
        }
      ],
      "source": [
        "# Copy List\n",
        "a = [1, 2, 5]\n",
        "b = a * 2\n",
        "print(b)\n",
        "\n",
        "c = [0]\n",
        "d = c * 100\n",
        "print(len(d))\n",
        "\n",
        "# Count Value of List\n",
        "count_1 = b.count(1)\n",
        "print(count_1)\n",
        "\n",
        "\n",
        "\n",
        "# Find the index of value\n",
        "pos = b.index(5)\n",
        "print(pos)\n",
        "\n",
        "# Reverse the list\n",
        "a.reverse()\n",
        "print(a)\n",
        "\n",
        "# Sort the list\n",
        "b.sort()\n",
        "print(b)"
      ]
    }
  ],
  "metadata": {
    "colab": {
      "collapsed_sections": [
        "1UeCmprQWss_",
        "K7oNAgunVLAT",
        "r5mCW2BJXonC",
        "9J2EYKE1ZLn3",
        "me4EWA96ZIvd",
        "Y48TowWyaAXG",
        "PUyiY30odon2",
        "AJiNypr5d6VG",
        "xED7gO-Eftt5",
        "ca5d4GyZoqnk",
        "cI2t88y-vPi5",
        "Db2ep6qKzBGU"
      ],
      "provenance": []
    },
    "kernelspec": {
      "display_name": "DeepLearning",
      "language": "python",
      "name": "python3"
    },
    "language_info": {
      "codemirror_mode": {
        "name": "ipython",
        "version": 3
      },
      "file_extension": ".py",
      "mimetype": "text/x-python",
      "name": "python",
      "nbconvert_exporter": "python",
      "pygments_lexer": "ipython3",
      "version": "3.12.9"
    }
  },
  "nbformat": 4,
  "nbformat_minor": 0
}
