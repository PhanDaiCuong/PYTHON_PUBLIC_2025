{
 "cells": [
  {
   "cell_type": "markdown",
   "id": "04c2129d",
   "metadata": {},
   "source": [
    "# List Slicing "
   ]
  },
  {
   "cell_type": "code",
   "execution_count": 8,
   "id": "176cb91e",
   "metadata": {},
   "outputs": [
    {
     "name": "stdout",
     "output_type": "stream",
     "text": [
      "[3, 4, 5]\n"
     ]
    }
   ],
   "source": [
    "list1 = [1, 2, 3, 4, 5, 'a', 'b', 'c']\n",
    "\n",
    "# item from index 2 to index 4  [start, end, step]\n",
    "print(list1[2:5:1])"
   ]
  },
  {
   "cell_type": "code",
   "execution_count": 9,
   "id": "f9ca4d12",
   "metadata": {},
   "outputs": [
    {
     "name": "stdout",
     "output_type": "stream",
     "text": [
      "[3, 4, 5]\n"
     ]
    }
   ],
   "source": [
    "# if don't have step -> auto 1\n",
    "print(list1[2:5])"
   ]
  },
  {
   "cell_type": "code",
   "execution_count": 10,
   "id": "57068ebe",
   "metadata": {},
   "outputs": [
    {
     "name": "stdout",
     "output_type": "stream",
     "text": [
      "[4, 5, 'a', 'b', 'c']\n"
     ]
    }
   ],
   "source": [
    "# item from index 3 to end\n",
    "print(list1[3:])"
   ]
  },
  {
   "cell_type": "code",
   "execution_count": 11,
   "id": "88542378",
   "metadata": {},
   "outputs": [
    {
     "name": "stdout",
     "output_type": "stream",
     "text": [
      "[1, 2, 3, 4, 5, 'a', 'b', 'c']\n"
     ]
    }
   ],
   "source": [
    "# item from start to end\n",
    "print(list1[:])"
   ]
  },
  {
   "cell_type": "code",
   "execution_count": 12,
   "id": "1f3d403f",
   "metadata": {},
   "outputs": [
    {
     "name": "stdout",
     "output_type": "stream",
     "text": [
      "[5, 'a']\n"
     ]
    }
   ],
   "source": [
    "# slicing with negative index\n",
    "print(list1[-4:-2])"
   ]
  },
  {
   "cell_type": "code",
   "execution_count": 13,
   "id": "c7a3ab7d",
   "metadata": {},
   "outputs": [
    {
     "name": "stdout",
     "output_type": "stream",
     "text": [
      "[3, 2, 1]\n"
     ]
    }
   ],
   "source": [
    "#reverse list\n",
    "a = [1, 2, 3]\n",
    "b = a[::-1]\n",
    "print(b)"
   ]
  },
  {
   "cell_type": "code",
   "execution_count": 14,
   "id": "88090a2c",
   "metadata": {},
   "outputs": [
    {
     "name": "stdout",
     "output_type": "stream",
     "text": [
      "[1, 8, 9, 4, 5]\n"
     ]
    }
   ],
   "source": [
    "# Change value with slicing\n",
    "a = [1, 2, 3, 4, 5]\n",
    "a[1:3] = [8, 9]\n",
    "print(a)"
   ]
  },
  {
   "cell_type": "code",
   "execution_count": 15,
   "id": "9321c3a8",
   "metadata": {},
   "outputs": [
    {
     "name": "stdout",
     "output_type": "stream",
     "text": [
      "[1, 8, 4, 5]\n"
     ]
    }
   ],
   "source": [
    "# Earse value with slicing\n",
    "a[2:3] = []\n",
    "print(a)"
   ]
  },
  {
   "cell_type": "code",
   "execution_count": 16,
   "id": "f09797e0",
   "metadata": {},
   "outputs": [
    {
     "name": "stdout",
     "output_type": "stream",
     "text": [
      "[1, 8, 5]\n"
     ]
    }
   ],
   "source": [
    "# Earse value with slicing\n",
    "a[2:3] = []\n",
    "print(a)"
   ]
  },
  {
   "cell_type": "code",
   "execution_count": 17,
   "id": "912d5735",
   "metadata": {},
   "outputs": [
    {
     "name": "stdout",
     "output_type": "stream",
     "text": [
      "[1, 8, 5]\n"
     ]
    }
   ],
   "source": [
    "# Copy list\n",
    "b = a[:]\n",
    "print(b)"
   ]
  }
 ],
 "metadata": {
  "kernelspec": {
   "display_name": "DeepLearning",
   "language": "python",
   "name": "python3"
  },
  "language_info": {
   "codemirror_mode": {
    "name": "ipython",
    "version": 3
   },
   "file_extension": ".py",
   "mimetype": "text/x-python",
   "name": "python",
   "nbconvert_exporter": "python",
   "pygments_lexer": "ipython3",
   "version": "3.12.9"
  }
 },
 "nbformat": 4,
 "nbformat_minor": 5
}
